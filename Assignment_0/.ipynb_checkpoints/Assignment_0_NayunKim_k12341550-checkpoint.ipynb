{
 "cells": [
  {
   "cell_type": "markdown",
   "id": "db5f82b5",
   "metadata": {
    "deletable": false,
    "editable": false,
    "nbgrader": {
     "cell_type": "markdown",
     "checksum": "4ddfa50c11f38638c8499f0bdb787530",
     "grade": false,
     "grade_id": "cell-32192cdfa3e8e42e",
     "locked": true,
     "schema_version": 3,
     "solution": false,
     "task": false
    },
    "slideshow": {
     "slide_type": ""
    },
    "tags": []
   },
   "source": [
    "<h1 style=\"color:rgb(0,120,170)\">Machine Learning: Supervised Techniques WS24 <br> Assignment 0</h1>\n",
    "\n",
    "Within this introductory assignment we want to give you the chance to familiarize yourself with Jupyter Notebooks and this course's requirements for your submissions."
   ]
  },
  {
   "cell_type": "markdown",
   "id": "a64d8527",
   "metadata": {
    "deletable": false,
    "editable": false,
    "nbgrader": {
     "cell_type": "markdown",
     "checksum": "780f078f2762468bc0a5a2a23f009909",
     "grade": false,
     "grade_id": "cell-f71673dedbf2ec97",
     "locked": true,
     "schema_version": 3,
     "solution": false,
     "task": false
    }
   },
   "source": [
    "<h2 style=\"color:rgb(0,120,170)\">Copyrighting and Fare Use</h2>\n",
    "\n",
    "This material, no matter whether in printed or electronic form,\n",
    "may be used for personal and non-commercial educational use\n",
    "only. Any reproduction of this material, no matter whether as a\n",
    "whole or in parts, no matter whether in printed or in electronic\n",
    "form, requires explicit prior acceptance of the authors."
   ]
  },
  {
   "cell_type": "markdown",
   "id": "9c63335f",
   "metadata": {},
   "source": [
    "<h2 style=\"color:rgb(0,120,170)\">Automatic Testing Guidelines</h2>\n",
    "\n",
    "Your submissions are tested for correctness and plagiarism automatically using both visible and invisible assert statements.\n",
    "Automatic unittesting requires you, as a student, to submit a notebook which contains strictly defined objects.\n",
    "\n",
    "Within the notebook we provide detailed instruction which you may want to follow, in order to maximise your final grade.\n",
    "\n",
    "Never add new cells or use different cells for the solutions than the ones we provided as this will break our unit test!\n",
    "Please make sure to rerun your complete Notebook before submitting, this can reveal mistakes that could lead to point deductions!"
   ]
  },
  {
   "cell_type": "markdown",
   "id": "7bdbf4bd",
   "metadata": {
    "deletable": false,
    "editable": false,
    "nbgrader": {
     "cell_type": "markdown",
     "checksum": "c342c0952090f6b482bd38bcb07246cb",
     "grade": false,
     "grade_id": "cell-5978972456a8126c",
     "locked": true,
     "schema_version": 3,
     "solution": false,
     "task": false
    }
   },
   "source": [
    "<h2 style=\"color:rgb(0,120,170)\">LaTeX</h2>\n",
    "<p>\n",
    "    During the course you will be often supposed to derive formulas and perform calculations.<br>\n",
    "    The perfect tool to use in that case is LaTeX.<br>\n",
    "    By developers definition: <i>\"LaTeX is a high-quality typesetting system which includes features designed for the production of technical and scientific documentation.\"</i>\n",
    "</p>\n",
    "<p>\n",
    "    Tips how to use LaTeX:\n",
    "    <ul>\n",
    "    <li>Enter LaTeX mode (inline) by typing iside of <b>two dollar signs.</b><br>\n",
    "        Your first LaTeX statement $y = x^2$\n",
    "    </li>\n",
    "    <li> For centered, larger, stand-alone formulas use <b>double dollar signs</b> on each side: \n",
    "        $$\\sqrt{x^2} = y $$\n",
    "    </li>\n",
    "    <li>Use <b>curly brackets</b> to define arguments:<br>\n",
    "        No argument definition: $x^2 \\cdot x^3 \\neq x^2+3$<br>\n",
    "        Using brackets for argument definition: $x^2 \\cdot x^3 = x^{2+3}$<br>\n",
    "    </li>\n",
    "    <li>\n",
    "        Go for fancy tags to make your styling readable.<br>\n",
    "        Blackboard Bold style can be used for sets of numbers. Use <b>\\mathbb</b> tag. Examples: $\\mathbb{R}, \\mathbb{Z}, \\mathbb{I}, \\mathbb{Q}$<br>\n",
    "        Fractions can be written with <b>\\frac</b> tag. Example: $\\frac{x^2-1}{x-1}=\\frac{(x-1)(x+1)}{x-1}=x+1$\n",
    "    </li>\n",
    "    <li>Adjust bracked hight with <b>\\left \\right</b> tags.<br>\n",
    "        Formula without brackets adjustments: $y = (\\frac{\\mathbb{E}(X)}{\\mathbb{E}(Y)})^{x-y}$<br>\n",
    "        Formula with brackets adjustments: $y = \\left(\\frac{\\mathbb{E}(X)}{\\mathbb{E}(Y)}\\right)^{x-y}$\n",
    "    </li>\n",
    "     <li> <a href=\"https://wch.github.io/latexsheet/\">Full latex cheatsheet</a>\n",
    "    </li>\n",
    "    </ul>\n",
    "</p>\n",
    "    "
   ]
  },
  {
   "cell_type": "markdown",
   "id": "bf37cd95",
   "metadata": {
    "deletable": false,
    "editable": false,
    "nbgrader": {
     "cell_type": "markdown",
     "checksum": "ca48ccf55baa0bcdcb06a5bf734c7828",
     "grade": false,
     "grade_id": "latex_task",
     "locked": true,
     "schema_version": 3,
     "solution": false,
     "task": false
    }
   },
   "source": [
    "<h2 style=\"color:rgb(210,90,80)\">Task 1: Write a LaTeX formula (7 points)</h2>\n",
    "<p>\n",
    "    Show that for $ax^2+bx+c$ roots are:$$x_{1,2}=\\frac{-b\\pm\\sqrt{b^2-4ac}}{2a}$$\n",
    "</p>"
   ]
  },
  {
   "cell_type": "markdown",
   "id": "d63038cc-54f7-4612-9f28-a0c564c9242c",
   "metadata": {
    "deletable": false,
    "nbgrader": {
     "cell_type": "markdown",
     "checksum": "c4fb786ea8f77768044ed1bf7be7de91",
     "grade": true,
     "grade_id": "latex",
     "locked": false,
     "points": 7,
     "schema_version": 3,
     "solution": true,
     "task": false
    }
   },
   "source": [
    "YOUR ANSWER \n",
    "\n",
    "$ax^2 + bx + c = 0$\n",
    "\n",
    "$x^2 + \\frac{b}{a} + \\frac{c}{a} = 0$\n",
    "\n",
    "$x^2 + \\frac{b}{a}x = - \\frac{c}{a}$\n",
    "\n",
    "$x^2 + \\frac{b}{a}x + \\left(\\frac{b}{2a}\\right)^2 = -\\frac{c}{a} + \\left(\\frac{b}{2a}\\right)^2$\n",
    "\n",
    "$\\left( x + \\frac{b}{2a} \\right)^2 = -\\frac{c}{a} + \\frac{b^2}{4a^2}$\n",
    "\n",
    "$\\left( x + \\frac{b}{2a} \\right)^2 = \\frac{b^2 -4ac}{4a^2}$\n",
    "\n",
    "$x + \\frac{b}{2a} = \\pm \\frac{\\sqrt{b^2 - 4ac}}{2a}$\n",
    " \n",
    "$x_{1,2} = \\frac{-b \\pm \\sqrt{b^2 - 4ac}}{2a}$\n",
    "\n",
    "$x = -\\frac{b}{2a} \\pm \\frac{\\sqrt{b^2 - 4ac}}{2a}$\n",
    "\n",
    "$x_{1,2} = \\frac{-b \\pm \\sqrt{b^2 - 4ac}}{2a}$"
   ]
  },
  {
   "cell_type": "markdown",
   "id": "cba5fd18",
   "metadata": {
    "editable": true,
    "slideshow": {
     "slide_type": ""
    },
    "tags": []
   },
   "source": [
    "<h2 style=\"color:rgb(0,120,170)\">Coding</h2>\n",
    "\n",
    "In order to pass unittests please follow the instructions carefully.\n",
    "\n",
    "<h3 style=\"color:rgb(210,90,80)\">Imports</h3>\n",
    "Install and import packages you need."
   ]
  },
  {
   "cell_type": "code",
   "execution_count": 19,
   "id": "e0c66511",
   "metadata": {
    "tags": [
     "imports"
    ]
   },
   "outputs": [],
   "source": [
    "import numpy as np\n",
    "from matplotlib import pyplot as plt"
   ]
  },
  {
   "cell_type": "markdown",
   "id": "ebabf977",
   "metadata": {
    "deletable": false,
    "editable": false,
    "nbgrader": {
     "cell_type": "markdown",
     "checksum": "7a0b564d91f51b40b4b2cece3496bf22",
     "grade": false,
     "grade_id": "cell-d9cea43a8cd5057d",
     "locked": true,
     "schema_version": 3,
     "solution": false,
     "task": false
    }
   },
   "source": [
    "<h3 style=\"color:rgb(210,90,80)\"> Task 2: Write a function (5 points)</h3><br>\n",
    "Write a function <code>bivar_normal()</code> which returns a numpy array of shape (1000,2) filled with normally distributed random datapoints with <code>mean=0</code>, <code>std=0.01</code>."
   ]
  },
  {
   "cell_type": "code",
   "execution_count": 20,
   "id": "17457b09",
   "metadata": {
    "deletable": false,
    "nbgrader": {
     "cell_type": "code",
     "checksum": "703536443bcde71231df1da55050745d",
     "grade": false,
     "grade_id": "bivar_normal",
     "locked": false,
     "schema_version": 3,
     "solution": true,
     "task": false
    },
    "tags": [
     "bivar"
    ]
   },
   "outputs": [],
   "source": [
    "# Do not change function names!\n",
    "def bivar_normal():\n",
    "    \"\"\"Function bivar_normal takes no argument and returns a numpy array\n",
    "\n",
    "    Returns\n",
    "    -------\n",
    "    np.ndarray\n",
    "        numpy array of shape (1000,2) of np.float32 dtype with no rounding of values.\n",
    "    \"\"\"\n",
    "    # YOUR CODE HERE\n",
    "    data = np.random.normal(loc=0, scale=0.01, size=(1000,2))\n",
    "    return data.astype(np.float32)"
   ]
  },
  {
   "cell_type": "code",
   "execution_count": 21,
   "id": "3828fcee-f62e-4159-921f-74bc3c58ed21",
   "metadata": {
    "deletable": false,
    "editable": false,
    "nbgrader": {
     "cell_type": "code",
     "checksum": "56ed16e1302f2f8e76699690fe175624",
     "grade": true,
     "grade_id": "bivar_normal_test_mean",
     "locked": true,
     "points": 2.5,
     "schema_version": 3,
     "solution": false,
     "task": false
    }
   },
   "outputs": [],
   "source": [
    "assert bivar_normal().dtype == np.float32, \"Wrong datatype!\""
   ]
  },
  {
   "cell_type": "code",
   "execution_count": 22,
   "id": "0c0cc687-e6f4-4c72-8696-80918f2294a9",
   "metadata": {
    "deletable": false,
    "editable": false,
    "nbgrader": {
     "cell_type": "code",
     "checksum": "003e930003a62ae8cc74682bafcea63e",
     "grade": true,
     "grade_id": "bivar_normal_test_std",
     "locked": true,
     "points": 2.5,
     "schema_version": 3,
     "solution": false,
     "task": false
    }
   },
   "outputs": [],
   "source": [
    "assert bivar_normal().shape == (1000, 2)"
   ]
  },
  {
   "cell_type": "markdown",
   "id": "0ad08d41",
   "metadata": {
    "deletable": false,
    "editable": false,
    "nbgrader": {
     "cell_type": "markdown",
     "checksum": "8d45dc571c96a6327e87a25550fd7e14",
     "grade": false,
     "grade_id": "plot_task",
     "locked": true,
     "schema_version": 3,
     "solution": false,
     "task": false
    },
    "slideshow": {
     "slide_type": ""
    },
    "tags": []
   },
   "source": [
    "<h3 style=\"color:rgb(210,90,80)\">Task 3: Plot (5 points)</h3>\n",
    "Define a variable <code>data</code> through calling the <code>bivar_normal()</code> function developed above.<br>\n",
    "Plot your <code>data</code> in a scatterplot by using the matplotlib library. Set axis labels and plot title properly."
   ]
  },
  {
   "cell_type": "code",
   "execution_count": 23,
   "id": "ffcdd337",
   "metadata": {
    "tags": [
     "data"
    ]
   },
   "outputs": [],
   "source": [
    "# Define `data` variable that stores the output of `bivar_normal()`\n",
    "data = bivar_normal()"
   ]
  },
  {
   "cell_type": "code",
   "execution_count": 27,
   "id": "2cd9b0c8",
   "metadata": {
    "deletable": false,
    "editable": true,
    "nbgrader": {
     "cell_type": "code",
     "checksum": "6b4b2627e3025ea5567439597a33784d",
     "grade": true,
     "grade_id": "plot",
     "locked": false,
     "points": 5,
     "schema_version": 3,
     "solution": true,
     "task": false
    },
    "slideshow": {
     "slide_type": ""
    },
    "tags": [
     "plot"
    ]
   },
   "outputs": [],
   "source": [
    "def gen_plot(data):\n",
    "    \"\"\"Write a function that plots the data.\"\"\"\n",
    "    # YOUR CODE HERE\n",
    "    fig = plt.figure()\n",
    "    plt.scatter(data[:, 0], data[:, 1], c='blue', marker='o', s=10, alpha=0.5)\n",
    "    \n",
    "    plt.xlabel(\"X-axis\")\n",
    "    plt.ylabel(\"Y-axis\")\n",
    "\n",
    "    plt.title(\"Scatter Plot of Bivariate Normal Distribution\")\n",
    "\n",
    "    fig.show()"
   ]
  },
  {
   "cell_type": "code",
   "execution_count": 28,
   "id": "12a293f2",
   "metadata": {
    "editable": true,
    "slideshow": {
     "slide_type": ""
    },
    "tags": [
     "show_plot"
    ]
   },
   "outputs": [
    {
     "name": "stderr",
     "output_type": "stream",
     "text": [
      "C:\\Users\\nyuki\\AppData\\Local\\Temp\\ipykernel_28636\\87208437.py:12: UserWarning: FigureCanvasAgg is non-interactive, and thus cannot be shown\n",
      "  fig.show()\n"
     ]
    },
    {
     "data": {
      "image/png": "[encoded data removed]",
      "text/plain": [
       "<Figure size 640x480 with 1 Axes>"
      ]
     },
     "metadata": {},
     "output_type": "display_data"
    }
   ],
   "source": [
    "# Plot the data using your function\n",
    "gen_plot(data)"
   ]
  },
  {
   "cell_type": "markdown",
   "id": "431ae4c6",
   "metadata": {
    "deletable": false,
    "editable": false,
    "nbgrader": {
     "cell_type": "markdown",
     "checksum": "27c2f44f3882bca72e5eced3be5ccaa6",
     "grade": false,
     "grade_id": "cell-730f13d331f315f4",
     "locked": true,
     "schema_version": 3,
     "solution": false,
     "task": false
    },
    "slideshow": {
     "slide_type": ""
    },
    "tags": []
   },
   "source": [
    "<h3 style=\"color:rgb(210,90,80)\">Task 4: Test question (3 points)</h3>\n",
    "\n",
    "What is true? Multiple answers might be correct.<br> \n",
    "\n",
    "Pegasus is:<br>\n",
    "a_) half horse, half human<br>\n",
    "b_) a horse with wings<br>\n",
    "c_) an elephant flying with its huge ears<br>\n",
    "d_) a mythical creature<br>\n",
    "\n",
    "To answer these questions, store the results in variables reflecting the actual question letters. For example, if you think that **a_)** is true, then create a variable called `a_` and assign the boolean value `True` to it: `a_ = True`. Do the same for the other options b_), c_) and d_).<br>\n",
    "Please **assign _boolean_ values to all question variables**\n"
   ]
  },
  {
   "cell_type": "code",
   "execution_count": 14,
   "id": "023268aa",
   "metadata": {
    "deletable": false,
    "editable": true,
    "nbgrader": {
     "cell_type": "code",
     "checksum": "8b5ebfa1d033b5170f43b35cb12014df",
     "grade": false,
     "grade_id": "question",
     "locked": false,
     "schema_version": 3,
     "solution": true,
     "task": false
    },
    "slideshow": {
     "slide_type": ""
    },
    "tags": [
     "testquestion"
    ]
   },
   "outputs": [],
   "source": [
    "# Examples for you (not the actual solution):\n",
    "# a_ = True\n",
    "# b_ = False\n",
    "# c_ = True\n",
    "# d_ = False\n",
    "\n",
    "# YOUR CODE HERE\n",
    "a_ = False\n",
    "b_ = True\n",
    "c_ = False\n",
    "d_ = True"
   ]
  },
  {
   "cell_type": "code",
   "execution_count": 15,
   "id": "bdf8dcc7-3bd5-4232-9111-aea386ff3c40",
   "metadata": {
    "deletable": false,
    "editable": false,
    "nbgrader": {
     "cell_type": "code",
     "checksum": "8861a2c2829ca1cf095e02f5ca30f4f0",
     "grade": true,
     "grade_id": "answer_a",
     "locked": true,
     "points": 0.75,
     "schema_version": 3,
     "solution": false,
     "task": false
    }
   },
   "outputs": [],
   "source": [
    "assert a_ is not None, \"Store True/False!\"\n",
    "assert a_ in [True, False], \"Invalid Answer!\""
   ]
  },
  {
   "cell_type": "code",
   "execution_count": 16,
   "id": "d90918d1-41f1-49e9-a25d-2f5322ec7a0b",
   "metadata": {
    "deletable": false,
    "editable": false,
    "nbgrader": {
     "cell_type": "code",
     "checksum": "aaebec8c3c2b8592a4f6cb9c91c56a05",
     "grade": true,
     "grade_id": "answer_b",
     "locked": true,
     "points": 0.75,
     "schema_version": 3,
     "solution": false,
     "task": false
    }
   },
   "outputs": [],
   "source": [
    "assert b_ is not None, \"Store True/False!\"\n",
    "assert b_ in [True, False], \"Invalid Answer!\""
   ]
  },
  {
   "cell_type": "code",
   "execution_count": 17,
   "id": "f86d0bbb-7c72-456b-ada9-0e0bf53f63f4",
   "metadata": {
    "deletable": false,
    "editable": false,
    "nbgrader": {
     "cell_type": "code",
     "checksum": "5e5333d00d66e576b566992f74893124",
     "grade": true,
     "grade_id": "answer_c",
     "locked": true,
     "points": 0.75,
     "schema_version": 3,
     "solution": false,
     "task": false
    }
   },
   "outputs": [],
   "source": [
    "assert c_ is not None, \"Store True/False!\"\n",
    "assert c_ in [True, False], \"Invalid Answer!\""
   ]
  },
  {
   "cell_type": "code",
   "execution_count": 18,
   "id": "a98f9ed8-6177-48fb-a48e-fc4b5c21098e",
   "metadata": {
    "deletable": false,
    "editable": false,
    "nbgrader": {
     "cell_type": "code",
     "checksum": "234bdb01eaf4d530be80e223e0f721cd",
     "grade": true,
     "grade_id": "answer_d",
     "locked": true,
     "points": 0.75,
     "schema_version": 3,
     "solution": false,
     "task": false
    }
   },
   "outputs": [],
   "source": [
    "assert d_ is not None, \"Store True/False!\"\n",
    "assert d_ in [True, False], \"Invalid Answer!\""
   ]
  },
  {
   "cell_type": "code",
   "execution_count": null,
   "id": "fef6780f-9e9e-42d4-8e6c-c97fb522db74",
   "metadata": {},
   "outputs": [],
   "source": []
  }
 ],
 "metadata": {
  "kernelspec": {
   "display_name": "Python 3 (ipykernel)",
   "language": "python",
   "name": "python3"
  },
  "language_info": {
   "codemirror_mode": {
    "name": "ipython",
    "version": 3
   },
   "file_extension": ".py",
   "mimetype": "text/x-python",
   "name": "python",
   "nbconvert_exporter": "python",
   "pygments_lexer": "ipython3",
   "version": "3.11.3"
  }
 },
 "nbformat": 4,
 "nbformat_minor": 5
}
