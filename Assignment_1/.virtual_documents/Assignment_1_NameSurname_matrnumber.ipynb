























# Nothing to do here - just run this cell!
import sklearn
import numpy as np
import matplotlib.pyplot as plt
from matplotlib.figure import Figure
from matplotlib.collections import PathCollection
from typing import Callable


# Nothing to do here - just run this cell!
# read data, split into X(features) and y(labels)
Z = np.genfromtxt('DataSet1.csv', delimiter=';')
X, y = Z[:,:-1], Z[:,-1]





def scatter_plot(X: np.ndarray, y: np.ndarray):
    """Creates a scatter-plot for the dataset X with labels y.

    Parameters
    ----------
    X : np.ndarray
        data
    y : np.ndarray
        labels
    """
    # YOUR CODE HERE
    raise NotImplementedError()


# Nothing to do here - just run this cell!
scatter_plot(X, y)





# Examples for you (not the actual solution):
# a_ = True
# b_ = False
# c_ = ...
# You don't have to write any additional code for this question or any question of this type

# YOUR CODE HERE
raise NotImplementedError()


assert a_ is not None, "Store True/False!"
assert a_ in [True, False], "Invalid Answer!"


assert b_ is not None, "Store True/False!"
assert b_ in [True, False], "Invalid Answer!"


assert c_ is not None, "Store True/False!"
assert c_ in [True, False], "Invalid Answer!"





# YOUR CODE HERE
raise NotImplementedError()


assert d_ is not None, "Store True/False!"
assert d_ in [True, False], "Invalid Answer!"


assert e_ is not None, "Store True/False!"
assert e_ in [True, False], "Invalid Answer!"


assert f_ is not None, "Store True/False!"
assert f_ in [True, False], "Invalid Answer!"


assert g_ is not None, "Store True/False!"
assert g_ in [True, False], "Invalid Answer!"


assert h_ is not None, "Store True/False!"
assert h_ in [True, False], "Invalid Answer!"





# Nothing to do here - just run this cell!
from sklearn.model_selection import KFold
from sklearn import neighbors





def train_kNN(X_train: np.ndarray, y_train: np.ndarray, k: int) -> neighbors.KNeighborsClassifier: 
    """Function that fits a kNN to given data.
    
    Parameters
    ----------
    X_train : np array
        Training data.
    y_train : np array
        Training data labels.
    k : int 
        How many neighbors to consider.

    Returns
    -------
    classifier : neighbors.KNeighborsClassifier
        Classifier that was fitted to the training data.
    """
    # YOUR CODE HERE
    raise NotImplementedError()


# DO NOT DELETE THIS CELL!
classifier = train_kNN(X,y,3)
assert isinstance(classifier, neighbors.KNeighborsClassifier), "Classifier is not of correct type!"





def eval_kNN(classifier: neighbors.KNeighborsClassifier, X_eval: np.ndarray) -> np.ndarray: 
    """Function that returns predictions for some input data.

    Parameters
    ----------
    classifier : neighbors.KNeighborsClassifier
        Trained kNN classifier.
    X_eval : np.ndarray
        Data used for predicting the labels.

    Returns
    -------
    predictions : np.ndarray
        Predicted labels.
    """
    # YOUR CODE HERE
    raise NotImplementedError()


# DO NOT DELETE THIS CELL!
assert isinstance(eval_kNN(train_kNN(X, y, 3), X), np.ndarray), "Output is not a numpy array!"





def mean_zero_one_loss(y_true: np.ndarray, y_pred: np.ndarray) -> float:
    """Function that calculates the mean zero-one loss for given true and predicted labels.

    Parameters
    ----------
    y_true : np.ndarray
        True labels.
    y_pred : np.ndarray
        Tredicted labels.

    Returns
    -------
    loss : float
        Mean zero-one loss.
    """
    # YOUR CODE HERE
    raise NotImplementedError()


# DO NOT DELETE THIS CELL!
assert mean_zero_one_loss(np.array([1, -1, 1, 1]), np.array([-1, -1, 1, 1])) == 0.25, "Mean Zero-One loss is incorrect!"





def run_kNN(X: np.ndarray, y: np.ndarray, train_kNN: Callable, eval_kNN: Callable, mean_zero_one_loss: Callable, nf: int, k: int) -> float:
    """Function that combines all previous functions using Cross-Validation.
    
    Parameters
    ----------
    X : np.ndarray
        Training data.
    y : np.ndarray
        Training labels.
    train : Callable
        Function used for training the clf.
    evaluate : Callable
        Function used for evaluating the clf.
    loss_fn : Callable
        Function used for calculating the loss.
    nf : int
        Number of folds for CV
    k : int
        k for kNN algorithm.

    Returns
    -------
    mean_error : float
        Mean error over all folds.
    """
    # YOUR CODE HERE
    raise NotImplementedError()


# DO NOT DELETE THIS CELL!
assert isinstance(run_kNN(X, y, train_kNN, eval_kNN, mean_zero_one_loss, 2, 3), float), "Mean error is not a float!"


# Nothing to do here - just run this cell!
m = range(1, 180, 2)
nf = 10
error_holder = []
for k in m: #range with 179 included and step of 2
    error_holder.append(run_kNN(X, y, train_kNN, eval_kNN, mean_zero_one_loss, nf, k))





def plot_error_vs_k(error_holder: list[float], m: range):
    """Create a plot displaying the error vs the k in kNN.

    Parameters
    ----------
    error_holder : list[float]
        The error list generated above.
    m : range
        Range in the error list (see above)

    Returns
    -------
    Figure
        matplotlib figure object
    """
    # YOUR CODE HERE
    raise NotImplementedError()


# Nothing to do here - just run this cell!
plot_error_vs_k(error_holder, m)





# YOUR CODE HERE
raise NotImplementedError()


assert l_ is not None, "Store True/False!"
assert l_ in [True, False], "Invalid Answer!"


assert m_ is not None, "Store True/False!"
assert m_ in [True, False], "Invalid Answer!"


assert n_ is not None, "Store True/False!"
assert n_ in [True, False], "Invalid Answer!"


assert o_ is not None, "Store True/False!"
assert o_ in [True, False], "Invalid Answer!"


assert p_ is not None, "Store True/False!"
assert p_ in [True, False], "Invalid Answer!"





# YOUR CODE HERE
raise NotImplementedError()


assert q_ is not None, "Store True/False!"
assert q_ in [True, False], "Invalid Answer!"


assert r_ is not None, "Store True/False!"
assert r_ in [True, False], "Invalid Answer!"


assert s_ is not None, "Store True/False!"
assert s_ in [True, False], "Invalid Answer!"


assert t_ is not None, "Store True/False!"
assert t_ in [True, False], "Invalid Answer!"


assert u_ is not None, "Store True/False!"
assert u_ in [True, False], "Invalid Answer!"


assert v_ is not None, "Store True/False!"
assert v_ in [True, False], "Invalid Answer!"


assert w_ is not None, "Store True/False!"
assert w_ in [True, False], "Invalid Answer!"


assert x_ is not None, "Store True/False!"
assert x_ in [True, False], "Invalid Answer!"





def generate_flip_vector(n: int) -> np.ndarray:
    """Function that produces a flip vector consisting of -1's and 1's.

    Parameters
    ----------
    n : integer
        The length of the vector that should be returned.

    Returns
    -------
    flip_vector : np.ndarray
        The vector that indicates what labels will be flipped
    """
    # YOUR CODE HERE
    raise NotImplementedError()


# DO NOT DELETE THIS CELL!
_expected_flip_vector1 = np.array([ 1,  1,  1,  1, -1,  1,  1,  1,  1,  1,  1,  1,  1, -1,  1,  1, -1,
        1,  1,  1, -1,  1,  1,  1,  1,  1,  1,  1,  1, -1,  1,  1,  1,  1,
       -1,  1, -1,  1,  1,  1, -1,  1,  1,  1,  1,  1,  1,  1,  1,  1,  1,
        1,  1, -1,  1,  1,  1,  1,  1,  1, -1,  1,  1,  1,  1,  1,  1,  1,
        1,  1,  1,  1,  1,  1, -1,  1, -1,  1,  1,  1,  1, -1,  1,  1,  1,
        1,  1, -1,  1,  1, -1, -1,  1,  1,  1,  1, -1, -1,  1,  1,  1,  1,
       -1, -1, -1,  1,  1,  1,  1,  1,  1, -1,  1,  1,  1,  1,  1,  1,  1,
        1,  1,  1,  1,  1,  1, -1,  1,  1,  1,  1,  1,  1, -1, -1,  1,  1,
        1,  1,  1, -1,  1,  1, -1,  1,  1,  1,  1,  1,  1,  1,  1, -1,  1,
        1,  1, -1,  1,  1,  1,  1,  1,  1,  1,  1,  1,  1,  1,  1, -1,  1,
       -1,  1,  1,  1, -1,  1,  1, -1,  1,  1, -1,  1,  1,  1, -1,  1,  1,
        1,  1,  1, -1, -1, -1,  1, -1,  1,  1,  1,  1,  1,  1,  1,  1,  1,
       -1,  1, -1,  1,  1, -1])

np.random.seed(0)
_flip1 = generate_flip_vector(len(y))
assert isinstance(_flip1, np.ndarray), "Flip vector is not a numpy array!"
np.testing.assert_array_equal(_expected_flip_vector1, _flip1)





def flip_labels(y: np.ndarray, flip_vector: np.ndarray):
    """Function that flips labels given a flip vector.

    Parameters
    ----------
    y : np.ndarray
        Labels to flip. Note that y is of the same length as the flip vector.
    flip_vector : np.ndarray
        Array that should be used to flip the labels.

    Returns
    -------
    flipped_labels : np.ndarray
        The labels where roughly n/5 labels are flipped.
    """
    # YOUR CODE HERE
    raise NotImplementedError()


# DO NOT DELETE THIS CELL!
np.random.seed(0)
_y_fl1 = flip_labels(y, _expected_flip_vector1)
_expected_flipped_labels1 = np.array([ 1., -1.,  1.,  1., -1., -1.,  1., -1.,  1.,  1., -1.,  1.,  1.,
        1.,  1.,  1.,  1.,  1.,  1.,  1.,  1., -1.,  1., -1., -1.,  1.,
        1.,  1., -1.,  1., -1., -1.,  1.,  1.,  1.,  1., -1.,  1., -1.,
        1.,  1.,  1.,  1.,  1.,  1.,  1., -1.,  1.,  1.,  1., -1.,  1.,
       -1.,  1., -1.,  1.,  1., -1.,  1., -1.,  1., -1.,  1., -1., -1.,
        1.,  1.,  1.,  1.,  1., -1., -1., -1.,  1., -1.,  1.,  1.,  1.,
        1., -1.,  1., -1., -1., -1., -1., -1.,  1.,  1., -1., -1.,  1.,
       -1.,  1.,  1., -1., -1., -1.,  1., -1., -1., -1.,  1.,  1.,  1.,
        1.,  1., -1., -1.,  1., -1.,  1., -1., -1.,  1., -1.,  1., -1.,
       -1.,  1., -1.,  1., -1., -1., -1., -1.,  1.,  1.,  1., -1., -1.,
        1., -1., -1., -1., -1., -1.,  1., -1.,  1., -1., -1.,  1., -1.,
        1.,  1., -1.,  1., -1., -1., -1.,  1.,  1.,  1.,  1.,  1., -1.,
       -1., -1., -1., -1.,  1.,  1., -1., -1.,  1., -1.,  1.,  1., -1.,
       -1., -1., -1.,  1.,  1., -1.,  1., -1.,  1.,  1., -1.,  1., -1.,
       -1.,  1., -1., -1., -1.,  1., -1.,  1.,  1.,  1., -1.,  1., -1.,
        1., -1.,  1., -1.,  1., -1., -1., -1.,  1., -1.,  1., -1.,  1.,
       -1.,  1.])
assert isinstance(_y_fl1, np.ndarray), "Flipped labels is not a numpy array!"
np.testing.assert_array_equal(_expected_flipped_labels1, _y_fl1)


# Nothing to do here - just run this cell!
# define new y vector by calling flip function
fl_vec = generate_flip_vector(len(y))
y_fl = flip_labels(y,fl_vec)

error_holder_flipped = []
for k in m: # range with 179 included and step of 2
    error_holder_flipped.append(run_kNN(X, y_fl, train_kNN, eval_kNN, mean_zero_one_loss, nf, k))





def plot_subplots(X: np.ndarray, y: np.ndarray, y_fl: np.ndarray, m: int, error_holder: list[float], error_holder_flipped: list[float]):
    """The function creating the plots as described above.

    The Parameters are called the same as in the notebook.
    Do not use anything besides them.

    Parameters
    ----------
    X : np.ndarray
        The data to plot.
    y : np.ndarray
        The original labels of the data.
    y_fl : np.ndarray
        The flipped labels of the data.
    m : range
        The range of the error_holder lists.
    error_holder : list[float]
        The list containing the original errors.
    error_holder_flipped : list[float]
        The list containing the errors on the fipped dataset labels.  
    """
    # YOUR CODE HERE
    raise NotImplementedError()


# Nothing to do here - just run this cell!
plot_subplots(X, y, y_fl, m, error_holder, error_holder_flipped)





# YOUR CODE HERE
raise NotImplementedError()


assert y_ is not None, "Store True/False!"
assert y_ in [True, False], "Invalid Answer!"


assert z_ is not None, "Store True/False!"
assert z_ in [True, False], "Invalid Answer!"


assert a2_ is not None, "Store True/False!"
assert a2_ in [True, False], "Invalid Answer!"


assert b2_ is not None, "Store True/False!"
assert b2_ in [True, False], "Invalid Answer!"


assert c2_ is not None, "Store True/False!"
assert c2_ in [True, False], "Invalid Answer!"


assert d2_ is not None, "Store True/False!"
assert d2_ in [True, False], "Invalid Answer!"





def add_features(X: np.ndarray) -> np.ndarray:
    """Function that adds uniformly distributed features to dataset.

    Parameters
    ----------
    X : np.ndarray
        Dataset to add random feature

    Returns
    -------
    X_new : np.ndarray
        Dataset enhanced with 4 uniformly distributed features.
    """
    
    # YOUR CODE HERE
    raise NotImplementedError()


assert isinstance(add_features(X), np.ndarray), "Resulting data matrix is not a numpy array!"
assert add_features(X).shape == (X.shape[0], 6), "Resulting data matrix shape is not correct!"


# Nothing to do here - just run this cell!
# define new feature matrix by calling add_features function
X_new = add_features(X)





def plot_error_vs_k_extra_dims(X_new: np.ndarray, y: np.ndarray, m: range):
    """Function that implements the plot from Task5.

    This function should create 2! plots.
    The first plot to visualize error vs k with 10 folds and <X> extra dimensions.
    The second plot to visualize the error versus dimension with k=11
    
    Parameters
    ----------
    X_new : np.ndarray
        The new dataset with the added random features.
    y : np.ndarray
        The labels of the dataset.
    m : range
        The range of the error_holder lists for the new errors.
    """
    # YOUR CODE HERE
    raise NotImplementedError()


# Nothing to do here - just run this cell!
plot_error_vs_k_extra_dims(X_new, y, m)





# YOUR CODE HERE
raise NotImplementedError()


assert e2_ is not None, "Store True/False!"
assert e2_ in [True, False], "Invalid Answer!"


assert f2_ is not None, "Store True/False!"
assert f2_ in [True, False], "Invalid Answer!"


assert g2_ is not None, "Store True/False!"
assert g2_ in [True, False], "Invalid Answer!"


assert h2_ is not None, "Store True/False!"
assert h2_ in [True, False], "Invalid Answer!"


assert i2_ is not None, "Store True/False!"
assert i2_ in [True, False], "Invalid Answer!"
