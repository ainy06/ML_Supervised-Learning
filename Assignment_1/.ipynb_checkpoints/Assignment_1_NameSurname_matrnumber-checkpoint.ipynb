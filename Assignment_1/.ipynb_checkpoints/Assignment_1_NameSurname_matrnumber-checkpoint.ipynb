{
 "cells": [
  {
   "cell_type": "markdown",
   "id": "54d3d1be-82df-475c-88ae-e95751f05638",
   "metadata": {
    "deletable": false,
    "editable": false,
    "nbgrader": {
     "cell_type": "markdown",
     "checksum": "b015018a17172d6c6950a63a1b270609",
     "grade": false,
     "grade_id": "cell-b59dcb0eac0d48bb",
     "locked": true,
     "schema_version": 3,
     "solution": false,
     "task": false
    }
   },
   "source": [
    "<h1 style=\"color:rgb(0,120,170)\">Assignment 1: k-nearest neighbors</h1>"
   ]
  },
  {
   "cell_type": "markdown",
   "id": "3e6c204e-2fd0-49b8-9939-bae5aee14622",
   "metadata": {
    "deletable": false,
    "editable": false,
    "nbgrader": {
     "cell_type": "markdown",
     "checksum": "d348d42e41d85d2beda5f23a50aca68f",
     "grade": false,
     "grade_id": "cell-58f6e6ba4beb7e57",
     "locked": true,
     "schema_version": 3,
     "solution": false,
     "task": false
    }
   },
   "source": [
    "This material, no matter whether in printed or electronic form, may be used for personal and non-commercial educational use only. Any reproduction of this material, no matter whether as a whole or in parts, no matter whether in printed or in electronic form, requires explicit prior acceptance of the authors."
   ]
  },
  {
   "cell_type": "markdown",
   "id": "8f7a7181-c960-423b-a430-c87732d97b3f",
   "metadata": {
    "deletable": false,
    "editable": false,
    "nbgrader": {
     "cell_type": "markdown",
     "checksum": "d6a43f98e6b68d96a282ec01ac68c6b7",
     "grade": false,
     "grade_id": "cell-1a8a7c5a81a286b4",
     "locked": true,
     "schema_version": 3,
     "solution": false,
     "task": false
    }
   },
   "source": [
    "<h2 style=\"color:rgb(0,120,170)\">Automatic Testing Guidelines</h2>\n",
    "\n",
    "Automatic unittesting requires you to submit a notebook which contains strictly defined objects.\n",
    "Strictness of definition consists of unified shapes, dtypes, variable names and more.\n",
    "\n",
    "Within the notebook, we provide detailed instruction which you should follow in order to maximise your final grade.\n",
    "\n",
    "**Name your notebook properly**, follow the pattern in the template name:\n",
    "\n",
    "**Assignment_N_NameSurname_matrnumber**\n",
    "<ol>\n",
    "    <li>N - number of assignment</li>\n",
    "    <li>NameSurname - your full name where every part of the name starts with a capital letter, no spaces</li>\n",
    "    <li>matrnumber - you student number on ID card (with k, potenitially with a leading zero)</li>\n",
    "</ol>\n",
    "\n",
    "Don't add any cells but use the ones provided by us. All cells have a unique ID so that the unit test can find it, so please do not add or remove any cell!\n",
    "\n",
    "You can implement helper functions where needed unless you put them in the same cell they are actually called. Always make sure that implemented functions have the correct output and given variables contain the correct data type. In the descriptions for every function you can find information on what datatype an output should have and you should stick to that in order to minimize conflicts with the unittest. Don't import any other packages than listed in the cell with the \"imports\" tag.\n",
    "\n",
    "Questions are usually multiple choice (except the task description says otherwise) and can be answered by changing the given variables to either \"True\" or \"False\". \"None\" is counted as a wrong answer in any case!\n",
    "\n",
    "**Note:** Never use variables you defined in another cell in your functions directly; always pass them to the function as a parameter. In the unitest, they won't be available either. If you want to make sure that everything is executable for the unittest, try executing cells/functions individually (instead of running the whole notebook)."
   ]
  },
  {
   "cell_type": "markdown",
   "id": "0d8e8dda-49b1-4ee0-8a4f-b17c738e94de",
   "metadata": {
    "deletable": false,
    "editable": false,
    "nbgrader": {
     "cell_type": "markdown",
     "checksum": "00edeb110231555d04b64a630cadfc02",
     "grade": false,
     "grade_id": "cell-34daba38c9f2ba50",
     "locked": true,
     "schema_version": 3,
     "solution": false,
     "task": false
    }
   },
   "source": [
    "<h2 style=\"color:rgb(0,120,170)\">Plagiarism</h2>\n",
    "\n",
    "Your submissions will be scanned for plagiarism! \\\n",
    "If plagiarism is detected, all involved students will automatically receive 0 points for the whole submission, until further explanation is brought forward to us."
   ]
  },
  {
   "cell_type": "markdown",
   "id": "ffea9290-e544-46a5-b514-c76c3412d3f4",
   "metadata": {
    "deletable": false,
    "editable": false,
    "nbgrader": {
     "cell_type": "markdown",
     "checksum": "5285b26c9892297e4ac89cdd68dce54b",
     "grade": false,
     "grade_id": "cell-b95e1d72e077f626",
     "locked": true,
     "schema_version": 3,
     "solution": false,
     "task": false
    }
   },
   "source": [
    "<h2 style=\"color:rgb(210,90,80)\">Task 1: Risk Calulation (10 Points)</h2>"
   ]
  },
  {
   "cell_type": "markdown",
   "id": "c757b2ff-6b28-4758-95e5-203ee53d734e",
   "metadata": {
    "deletable": false,
    "editable": false,
    "nbgrader": {
     "cell_type": "markdown",
     "checksum": "93ecef1997284a3fe41cb128698b1a6c",
     "grade": false,
     "grade_id": "cell-a1e07db8402013e0",
     "locked": true,
     "schema_version": 3,
     "solution": false,
     "task": false
    }
   },
   "source": [
    "Assume the simple situation of a binary classification task, i.e. $y = \\pm 1$, and a 1-dimensional feature $x$, i.e. $d=1$. Moreover, the feature is discrete (categorical) and can only have 3 possible values $x=1,2,3$.\n",
    "\n",
    "Data is drawn from the following distribution:\n",
    "\n",
    "\\begin{align}\n",
    "p(x=1,y=+1) &= 0.1\\\\\n",
    "p(x=1,y=-1) &= 0.2\\\\\n",
    "p(x=2,y=+1) &= 0.2\\\\\n",
    "p(x=2,y=-1) &= 0.1\\\\\n",
    "p(x=3,y=+1) &= 0.3\\\\\n",
    "p(x=3,y=-1) &= 0.1\\\\\n",
    "\\end{align}\n",
    "\n",
    "Compute the risk for the 0-1-loss for these two classifiers:\n",
    "\n",
    "(1) The Bayes-optimal classifier $g_\\textrm{opt}$.<br>\n",
    "(2) A classifier $g_\\textrm{dom}$ which always outputs $+1$, i.e. the dominant label, independent of $x$."
   ]
  },
  {
   "cell_type": "markdown",
   "id": "ae4aa174-95f0-4b6f-a65b-210fecea0075",
   "metadata": {
    "deletable": false,
    "nbgrader": {
     "cell_type": "markdown",
     "checksum": "d2bbf5417713250b7c70c061ae797597",
     "grade": true,
     "grade_id": "risk_calc",
     "locked": false,
     "points": 10,
     "schema_version": 3,
     "solution": true,
     "task": false
    }
   },
   "source": [
    "YOUR ANSWER HERE\n",
    "\n",
    "(1)\n",
    "$R(g_{\\text{opt}}) = \\sum_{x} \\min(p(y = +1 \\mid x),p(y = -1 \\mid x))$\n",
    "\n",
    "\\begin{align*}\n",
    "    &\\text{For } x = 1: \\min(0.1, 0.2) = 0.1 \\\\\n",
    "    &\\text{For } x = 2: \\min(0.2,0.1) = 0.1 \\\\\n",
    "    &\\text{For } x = 3: \\min(0.3, 0.1) = 0.1 \\\\\n",
    "\\end{align*}\n",
    "\n",
    "Therefore,\n",
    "\n",
    "$R(g_{\\text{opt}}) = 0.1 + 0.1 + 0.1 = 0.3$\n",
    "\n",
    "(2)\n",
    "$R(g_{\\text{dom}})$ for each $x$ :\n",
    "\\begin{align*}\n",
    "    &\\text{For } x = 1: \\text{risk} = p(y = -1 \\mid x = 1) = 0.2 \\\\\n",
    "    &\\text{For } x = 2: \\text{risk} = p(y = -1 \\mid x = 2) = 0.1 \\\\\n",
    "    &\\text{For } x = 3: \\text{risk} = p(y = -1 \\mid x = 3) = 0.1 \\\\\n",
    "\\end{align*}\n",
    "Therefore,\n",
    "$R(g_{\\text{dom}}) = 0.2 + 0.1 + 0.1 = 0.4$\n"
   ]
  },
  {
   "cell_type": "markdown",
   "id": "42efeef1-75d5-4378-ba33-e6478e79bc73",
   "metadata": {
    "deletable": false,
    "editable": false,
    "nbgrader": {
     "cell_type": "markdown",
     "checksum": "48ca296bbbec79a736cbd4f8c278ff7c",
     "grade": false,
     "grade_id": "cell-a89c3a4b6a0c9bd0",
     "locked": true,
     "schema_version": 3,
     "solution": false,
     "task": false
    }
   },
   "source": [
    "<h2 style=\"color:rgb(0,120,170)\">Task 2: Visualization</h2>"
   ]
  },
  {
   "cell_type": "code",
   "execution_count": 1,
   "id": "dbfe5814-45b7-46fb-94de-d86b4e215f3c",
   "metadata": {
    "deletable": false,
    "editable": false,
    "nbgrader": {
     "cell_type": "code",
     "checksum": "494c4d41dfdfc95d050dde77b169b72e",
     "grade": false,
     "grade_id": "cell-3c0948b4ddac0f2b",
     "locked": true,
     "schema_version": 3,
     "solution": false,
     "task": false
    }
   },
   "outputs": [],
   "source": [
    "# Nothing to do here - just run this cell!\n",
    "import sklearn\n",
    "import numpy as np\n",
    "import matplotlib.pyplot as plt\n",
    "from matplotlib.figure import Figure\n",
    "from matplotlib.collections import PathCollection\n",
    "from typing import Callable"
   ]
  },
  {
   "cell_type": "code",
   "execution_count": 2,
   "id": "d8a45e1a-b907-46fe-bc4c-20397c5b1c42",
   "metadata": {
    "deletable": false,
    "editable": false,
    "nbgrader": {
     "cell_type": "code",
     "checksum": "e48ee5f361e3bded03f9d169f4528e1e",
     "grade": false,
     "grade_id": "cell-7489f33b67ac2ec4",
     "locked": true,
     "schema_version": 3,
     "solution": false,
     "task": false
    }
   },
   "outputs": [],
   "source": [
    "# Nothing to do here - just run this cell!\n",
    "# read data, split into X(features) and y(labels)\n",
    "Z = np.genfromtxt('DataSet1.csv', delimiter=';')\n",
    "X, y = Z[:,:-1], Z[:,-1]"
   ]
  },
  {
   "cell_type": "markdown",
   "id": "0a37bc93-9e74-47b8-84ed-9a3d38095cf7",
   "metadata": {
    "deletable": false,
    "editable": false,
    "nbgrader": {
     "cell_type": "markdown",
     "checksum": "ab8a87672e0e3cd1d36e471fa372ee05",
     "grade": false,
     "grade_id": "cell-e06816e3fcde6869",
     "locked": true,
     "schema_version": 3,
     "solution": false,
     "task": false
    }
   },
   "source": [
    "<h3 style=\"color:rgb(210,90,80)\">Plot 2.1 (2 Points):</h3>\n",
    "\n",
    "Now visualize the data stored in `DataSet1.csv` with a scatter plot.<br>\n",
    "The first two columns are the features which hold the $x_1$ and $x_2$ coordinates of the data.<br>\n",
    "The last column provides the labels $y$ ($\\pm1$) of the data. Use different colors for different labels.<br>\n",
    "Always label the axes of all your plots."
   ]
  },
  {
   "cell_type": "code",
   "execution_count": null,
   "id": "2ff0e70b-1c57-482a-90c6-07fda0b98050",
   "metadata": {
    "deletable": false,
    "nbgrader": {
     "cell_type": "code",
     "checksum": "45f9df8eef9d277bb1120566e4de65d8",
     "grade": true,
     "grade_id": "2_1_plot",
     "locked": false,
     "points": 2,
     "schema_version": 3,
     "solution": true,
     "task": false
    }
   },
   "outputs": [],
   "source": [
    "def scatter_plot(X: np.ndarray, y: np.ndarray):\n",
    "    \"\"\"Creates a scatter-plot for the dataset X with labels y.\n",
    "\n",
    "    Parameters\n",
    "    ----------\n",
    "    X : np.ndarray\n",
    "        data\n",
    "    y : np.ndarray\n",
    "        labels\n",
    "    \"\"\"\n",
    "    # YOUR CODE HERE\n",
    "    raise NotImplementedError()"
   ]
  },
  {
   "cell_type": "code",
   "execution_count": null,
   "id": "2b6ba6b0-0047-4c56-bbaf-9251078a4ce0",
   "metadata": {
    "deletable": false,
    "editable": false,
    "nbgrader": {
     "cell_type": "code",
     "checksum": "74abef76444f36a54e577d5537f49706",
     "grade": false,
     "grade_id": "cell-43d7ece7e0282ca7",
     "locked": true,
     "schema_version": 3,
     "solution": false,
     "task": false
    }
   },
   "outputs": [],
   "source": [
    "# Nothing to do here - just run this cell!\n",
    "scatter_plot(X, y)"
   ]
  },
  {
   "cell_type": "markdown",
   "id": "e11731f2-89b4-4031-808a-6f49e0afcdc8",
   "metadata": {
    "deletable": false,
    "editable": false,
    "nbgrader": {
     "cell_type": "markdown",
     "checksum": "ce309a037761e1acdd9431b4bd0bf485",
     "grade": false,
     "grade_id": "cell-1c4d02bc94b1a394",
     "locked": true,
     "schema_version": 3,
     "solution": false,
     "task": false
    }
   },
   "source": [
    "<h3 style=\"color:rgb(210,90,80)\">Question 2.1 (3 Points):</h3>\n",
    "\n",
    "***Which of the following statements concerning the distribution of the data are correct:***<br>\n",
    "\n",
    "a_) The two classes are linearly seperable.<br>\n",
    "b_) There are no outliers in the data.<br>\n",
    "c_) Outliers would affect a kNN algorithm when k is small.<br>\n",
    "\n",
    "To answer the question assign to variables in the next cell \"True\" or \"False\" boolean values. \n",
    "To earn points, assign values to all variables. Note: Do not reuse these variable names. They are used for testing."
   ]
  },
  {
   "cell_type": "code",
   "execution_count": null,
   "id": "1fd0a480-b280-41ed-bfd1-a77a670a823b",
   "metadata": {
    "deletable": false,
    "nbgrader": {
     "cell_type": "code",
     "checksum": "457c2057031dbdc771efd1dcbed16b2b",
     "grade": false,
     "grade_id": "questions_2_1",
     "locked": false,
     "schema_version": 3,
     "solution": true,
     "task": false
    }
   },
   "outputs": [],
   "source": [
    "# Examples for you (not the actual solution):\n",
    "# a_ = True\n",
    "# b_ = False\n",
    "# c_ = ...\n",
    "# You don't have to write any additional code for this question or any question of this type\n",
    "\n",
    "# YOUR CODE HERE\n",
    "raise NotImplementedError()"
   ]
  },
  {
   "cell_type": "code",
   "execution_count": null,
   "id": "c34828a0-109c-4b80-9ce1-a419c627d7a0",
   "metadata": {
    "deletable": false,
    "editable": false,
    "nbgrader": {
     "cell_type": "code",
     "checksum": "82be909b51eb0d0422a7f53dfb653798",
     "grade": true,
     "grade_id": "a_t_f",
     "locked": true,
     "points": 1,
     "schema_version": 3,
     "solution": false,
     "task": false
    }
   },
   "outputs": [],
   "source": [
    "assert a_ is not None, \"Store True/False!\"\n",
    "assert a_ in [True, False], \"Invalid Answer!\""
   ]
  },
  {
   "cell_type": "code",
   "execution_count": null,
   "id": "31ee9442-3eab-4558-969f-1f1173ed1cfb",
   "metadata": {
    "deletable": false,
    "editable": false,
    "nbgrader": {
     "cell_type": "code",
     "checksum": "2aa411b30e9df677d5eb0edd631f19c2",
     "grade": true,
     "grade_id": "b_t_f",
     "locked": true,
     "points": 1,
     "schema_version": 3,
     "solution": false,
     "task": false
    }
   },
   "outputs": [],
   "source": [
    "assert b_ is not None, \"Store True/False!\"\n",
    "assert b_ in [True, False], \"Invalid Answer!\""
   ]
  },
  {
   "cell_type": "code",
   "execution_count": null,
   "id": "27813464-cd10-4238-9788-b676bb709f7d",
   "metadata": {
    "deletable": false,
    "editable": false,
    "nbgrader": {
     "cell_type": "code",
     "checksum": "c9011f82a0d06be657aaafe7989475b6",
     "grade": true,
     "grade_id": "c_t_f",
     "locked": true,
     "points": 1,
     "schema_version": 3,
     "solution": false,
     "task": false
    }
   },
   "outputs": [],
   "source": [
    "assert c_ is not None, \"Store True/False!\"\n",
    "assert c_ in [True, False], \"Invalid Answer!\""
   ]
  },
  {
   "cell_type": "markdown",
   "id": "dd7e16d8-1036-4137-b77c-73b10dff5d7f",
   "metadata": {
    "deletable": false,
    "editable": false,
    "nbgrader": {
     "cell_type": "markdown",
     "checksum": "d2de56359406b0af821e380518908a4d",
     "grade": false,
     "grade_id": "cell-4e781cd4995b1229",
     "locked": true,
     "schema_version": 3,
     "solution": false,
     "task": false
    }
   },
   "source": [
    "<h3 style=\"color:rgb(210,90,80)\">Question 2.2 (5 Points):</h3>\n",
    "\n",
    "***Which of the following statements about $k$-nearest neighbors are correct?***<br>\n",
    "(Multiple answers might be correct)\n",
    "\n",
    "d_) requires very long training time already for small data sets <br>\n",
    "e_) not suited for large datasets<br>\n",
    "f_) sensitive to the rescaling of individual features (individual dimensions of feature vectors)<br>\n",
    "g_) has many trainable model parameters <br>\n",
    "h_) k-NN only allows for classification, not for regression <br>"
   ]
  },
  {
   "cell_type": "code",
   "execution_count": null,
   "id": "3e5bac3e-6754-460a-a182-7f87925b5d93",
   "metadata": {
    "deletable": false,
    "nbgrader": {
     "cell_type": "code",
     "checksum": "948362cb5092a36ecf657c0305c14567",
     "grade": false,
     "grade_id": "questions_2_2",
     "locked": false,
     "schema_version": 3,
     "solution": true,
     "task": false
    }
   },
   "outputs": [],
   "source": [
    "# YOUR CODE HERE\n",
    "raise NotImplementedError()"
   ]
  },
  {
   "cell_type": "code",
   "execution_count": null,
   "id": "2cdfd8d4-20e6-4417-9130-1792f1b8b072",
   "metadata": {
    "deletable": false,
    "editable": false,
    "nbgrader": {
     "cell_type": "code",
     "checksum": "b83cb75d9fc728ffae5b2c210ce427ec",
     "grade": true,
     "grade_id": "d_t_f",
     "locked": true,
     "points": 1,
     "schema_version": 3,
     "solution": false,
     "task": false
    }
   },
   "outputs": [],
   "source": [
    "assert d_ is not None, \"Store True/False!\"\n",
    "assert d_ in [True, False], \"Invalid Answer!\""
   ]
  },
  {
   "cell_type": "code",
   "execution_count": null,
   "id": "dd669d3e-c2c7-444c-888c-049f2e6e401c",
   "metadata": {
    "deletable": false,
    "editable": false,
    "nbgrader": {
     "cell_type": "code",
     "checksum": "c23901472a0fcb6fb94470d07347e7ef",
     "grade": true,
     "grade_id": "e_t_f",
     "locked": true,
     "points": 1,
     "schema_version": 3,
     "solution": false,
     "task": false
    }
   },
   "outputs": [],
   "source": [
    "assert e_ is not None, \"Store True/False!\"\n",
    "assert e_ in [True, False], \"Invalid Answer!\""
   ]
  },
  {
   "cell_type": "code",
   "execution_count": null,
   "id": "44dca734-a3a4-4eae-937d-a4f4214cd12e",
   "metadata": {
    "deletable": false,
    "editable": false,
    "nbgrader": {
     "cell_type": "code",
     "checksum": "6a222f378f69b17e282953ab0c9aec00",
     "grade": true,
     "grade_id": "f_t_f",
     "locked": true,
     "points": 1,
     "schema_version": 3,
     "solution": false,
     "task": false
    }
   },
   "outputs": [],
   "source": [
    "assert f_ is not None, \"Store True/False!\"\n",
    "assert f_ in [True, False], \"Invalid Answer!\""
   ]
  },
  {
   "cell_type": "code",
   "execution_count": null,
   "id": "e50c682e-19ef-4bad-9e47-54eb7147bd15",
   "metadata": {
    "deletable": false,
    "editable": false,
    "nbgrader": {
     "cell_type": "code",
     "checksum": "ea226e6c5fda17593db5cb94be08db1d",
     "grade": true,
     "grade_id": "g_t_f",
     "locked": true,
     "points": 1,
     "schema_version": 3,
     "solution": false,
     "task": false
    }
   },
   "outputs": [],
   "source": [
    "assert g_ is not None, \"Store True/False!\"\n",
    "assert g_ in [True, False], \"Invalid Answer!\""
   ]
  },
  {
   "cell_type": "code",
   "execution_count": null,
   "id": "bd73d414-7f86-4ae5-8ce4-ac300d4619a7",
   "metadata": {
    "deletable": false,
    "editable": false,
    "nbgrader": {
     "cell_type": "code",
     "checksum": "42cc725dce91cb6f3ea8ac4dd4ede8f8",
     "grade": true,
     "grade_id": "h_t_f",
     "locked": true,
     "points": 1,
     "schema_version": 3,
     "solution": false,
     "task": false
    }
   },
   "outputs": [],
   "source": [
    "assert h_ is not None, \"Store True/False!\"\n",
    "assert h_ in [True, False], \"Invalid Answer!\""
   ]
  },
  {
   "cell_type": "markdown",
   "id": "fd1a2f11-c083-4f7d-b580-a0c13b150f84",
   "metadata": {
    "deletable": false,
    "editable": false,
    "nbgrader": {
     "cell_type": "markdown",
     "checksum": "53a72268d4d2a74046199a8e5786f64d",
     "grade": false,
     "grade_id": "cell-25c9bb9942de7fc7",
     "locked": true,
     "schema_version": 3,
     "solution": false,
     "task": false
    }
   },
   "source": [
    "<h2 style=\"color:rgb(0,120,170)\">Task 3: Training the model</h2>\n",
    "\n",
    "Now we want to put the kNN into action. To this end, work through the following points\n",
    "\n",
    "* Implement `train_kNN` which fits newly created instance of `KNeighborsClassifier` (`sklearn`) to some training data\n",
    "* Complete `eval_kNN`such that it outputs the prediction for some input data using a passed classifier\n",
    "* Program the function `mean_zero_one_loss` that calculates the mean zero-one loss (see lecture slides) of predicted values and samples from the test set\n",
    "* Put all of these functions together in `run_kNN` to fit a model to training data, make predictions on left-out (test) data and compute the loss for these predictions. To split the dataset into training and test sets, use 10-fold cross validation (CV), loop over all the splits and collect the mean error for each split.\n",
    "\n",
    "At the end of this task, visualize the mean error for $k \\in \\{1,3,5,...,177,179\\}$ in a plot and answer the following questions."
   ]
  },
  {
   "cell_type": "code",
   "execution_count": null,
   "id": "8c5db43b-24f9-46ee-bf66-e1ff96624b49",
   "metadata": {
    "deletable": false,
    "editable": false,
    "nbgrader": {
     "cell_type": "code",
     "checksum": "44d1e082ae87580b9f828f3225f781c6",
     "grade": false,
     "grade_id": "cell-b0c6f86b05ac7478",
     "locked": true,
     "schema_version": 3,
     "solution": false,
     "task": false
    }
   },
   "outputs": [],
   "source": [
    "# Nothing to do here - just run this cell!\n",
    "from sklearn.model_selection import KFold\n",
    "from sklearn import neighbors"
   ]
  },
  {
   "cell_type": "markdown",
   "id": "f58e51b1-5203-4aba-8065-0b2282474746",
   "metadata": {
    "deletable": false,
    "editable": false,
    "nbgrader": {
     "cell_type": "markdown",
     "checksum": "b88037a95c5bf71c66e36e35697f32c6",
     "grade": false,
     "grade_id": "cell-6c831c10627038b2",
     "locked": true,
     "schema_version": 3,
     "solution": false,
     "task": false
    }
   },
   "source": [
    "<h3 style=\"color:rgb(210,90,80)\">Code 3.1 (5 Points):</h3>"
   ]
  },
  {
   "cell_type": "code",
   "execution_count": null,
   "id": "f4308391-c654-42f5-a580-6a8299306fb7",
   "metadata": {
    "deletable": false,
    "nbgrader": {
     "cell_type": "code",
     "checksum": "048b6a5a3d0f503fcb5ada9b73380797",
     "grade": false,
     "grade_id": "3_1_code",
     "locked": false,
     "schema_version": 3,
     "solution": true,
     "task": false
    }
   },
   "outputs": [],
   "source": [
    "def train_kNN(X_train: np.ndarray, y_train: np.ndarray, k: int) -> neighbors.KNeighborsClassifier: \n",
    "    \"\"\"Function that fits a kNN to given data.\n",
    "    \n",
    "    Parameters\n",
    "    ----------\n",
    "    X_train : np array\n",
    "        Training data.\n",
    "    y_train : np array\n",
    "        Training data labels.\n",
    "    k : int \n",
    "        How many neighbors to consider.\n",
    "\n",
    "    Returns\n",
    "    -------\n",
    "    classifier : neighbors.KNeighborsClassifier\n",
    "        Classifier that was fitted to the training data.\n",
    "    \"\"\"\n",
    "    # YOUR CODE HERE\n",
    "    raise NotImplementedError()"
   ]
  },
  {
   "cell_type": "code",
   "execution_count": null,
   "id": "0949f18b-c9df-4787-970e-047a4314cd78",
   "metadata": {
    "deletable": false,
    "editable": false,
    "nbgrader": {
     "cell_type": "code",
     "checksum": "fb4e5c0110496e980d0d26fd2a24962e",
     "grade": true,
     "grade_id": "3_1_test",
     "locked": true,
     "points": 5,
     "schema_version": 3,
     "solution": false,
     "task": false
    }
   },
   "outputs": [],
   "source": [
    "# DO NOT DELETE THIS CELL!\n",
    "classifier = train_kNN(X,y,3)\n",
    "assert isinstance(classifier, neighbors.KNeighborsClassifier), \"Classifier is not of correct type!\""
   ]
  },
  {
   "cell_type": "markdown",
   "id": "4ff9ea40-0703-4eef-b762-ef84bf870128",
   "metadata": {
    "deletable": false,
    "editable": false,
    "nbgrader": {
     "cell_type": "markdown",
     "checksum": "e79a5c8cf6b5a8653eb7e96ffd873d37",
     "grade": false,
     "grade_id": "cell-50d81649987c6174",
     "locked": true,
     "schema_version": 3,
     "solution": false,
     "task": false
    }
   },
   "source": [
    "<h3 style=\"color:rgb(210,90,80)\">Code 3.2 (5 Points):</h3>"
   ]
  },
  {
   "cell_type": "code",
   "execution_count": null,
   "id": "e7fc8f5c-a896-4d21-b815-e4a286fbf9ae",
   "metadata": {
    "deletable": false,
    "nbgrader": {
     "cell_type": "code",
     "checksum": "0e7850436b223d9bbb2f1f70ca4d08c3",
     "grade": false,
     "grade_id": "3_2_code",
     "locked": false,
     "schema_version": 3,
     "solution": true,
     "task": false
    }
   },
   "outputs": [],
   "source": [
    "def eval_kNN(classifier: neighbors.KNeighborsClassifier, X_eval: np.ndarray) -> np.ndarray: \n",
    "    \"\"\"Function that returns predictions for some input data.\n",
    "\n",
    "    Parameters\n",
    "    ----------\n",
    "    classifier : neighbors.KNeighborsClassifier\n",
    "        Trained kNN classifier.\n",
    "    X_eval : np.ndarray\n",
    "        Data used for predicting the labels.\n",
    "\n",
    "    Returns\n",
    "    -------\n",
    "    predictions : np.ndarray\n",
    "        Predicted labels.\n",
    "    \"\"\"\n",
    "    # YOUR CODE HERE\n",
    "    raise NotImplementedError()"
   ]
  },
  {
   "cell_type": "code",
   "execution_count": null,
   "id": "5bbe46c1-71b0-411a-ba28-362b56446895",
   "metadata": {
    "deletable": false,
    "editable": false,
    "nbgrader": {
     "cell_type": "code",
     "checksum": "f4a90fe4724c4dba51089f9ed6db3d9b",
     "grade": true,
     "grade_id": "3_2_test",
     "locked": true,
     "points": 5,
     "schema_version": 3,
     "solution": false,
     "task": false
    }
   },
   "outputs": [],
   "source": [
    "# DO NOT DELETE THIS CELL!\n",
    "assert isinstance(eval_kNN(train_kNN(X, y, 3), X), np.ndarray), \"Output is not a numpy array!\""
   ]
  },
  {
   "cell_type": "markdown",
   "id": "4c8cbb5e-ae1f-4e45-9ac1-e8976eae6348",
   "metadata": {
    "deletable": false,
    "editable": false,
    "nbgrader": {
     "cell_type": "markdown",
     "checksum": "4578d141e20b7507b55ef2fd863e96d5",
     "grade": false,
     "grade_id": "cell-0b97d5950094596c",
     "locked": true,
     "schema_version": 3,
     "solution": false,
     "task": false
    }
   },
   "source": [
    "<h3 style=\"color:rgb(210,90,80)\">Code 3.3 (5 Points):</h3>"
   ]
  },
  {
   "cell_type": "code",
   "execution_count": null,
   "id": "b7ce1925-f9f4-42a0-adfc-bffc2f81dc42",
   "metadata": {
    "deletable": false,
    "nbgrader": {
     "cell_type": "code",
     "checksum": "61c958eaa3bc3f285e75c943a183fff8",
     "grade": false,
     "grade_id": "3_3_code",
     "locked": false,
     "schema_version": 3,
     "solution": true,
     "task": false
    }
   },
   "outputs": [],
   "source": [
    "def mean_zero_one_loss(y_true: np.ndarray, y_pred: np.ndarray) -> float:\n",
    "    \"\"\"Function that calculates the mean zero-one loss for given true and predicted labels.\n",
    "\n",
    "    Parameters\n",
    "    ----------\n",
    "    y_true : np.ndarray\n",
    "        True labels.\n",
    "    y_pred : np.ndarray\n",
    "        Tredicted labels.\n",
    "\n",
    "    Returns\n",
    "    -------\n",
    "    loss : float\n",
    "        Mean zero-one loss.\n",
    "    \"\"\"\n",
    "    # YOUR CODE HERE\n",
    "    raise NotImplementedError()"
   ]
  },
  {
   "cell_type": "code",
   "execution_count": null,
   "id": "8dc41b26-e167-40ff-beed-bc999db85aee",
   "metadata": {
    "deletable": false,
    "editable": false,
    "nbgrader": {
     "cell_type": "code",
     "checksum": "8ff91f987aa005b82821daa6ffce2da7",
     "grade": true,
     "grade_id": "3_3_test",
     "locked": true,
     "points": 5,
     "schema_version": 3,
     "solution": false,
     "task": false
    }
   },
   "outputs": [],
   "source": [
    "# DO NOT DELETE THIS CELL!\n",
    "assert mean_zero_one_loss(np.array([1, -1, 1, 1]), np.array([-1, -1, 1, 1])) == 0.25, \"Mean Zero-One loss is incorrect!\""
   ]
  },
  {
   "cell_type": "markdown",
   "id": "ce038bd3-b249-4d76-a73f-01e1f9d2267d",
   "metadata": {
    "deletable": false,
    "editable": false,
    "nbgrader": {
     "cell_type": "markdown",
     "checksum": "66f4c337f035c0be3e5ef67efb1e1cf9",
     "grade": false,
     "grade_id": "cell-92802bb698ad914f",
     "locked": true,
     "schema_version": 3,
     "solution": false,
     "task": false
    }
   },
   "source": [
    "<h3 style=\"color:rgb(210,90,80)\">Code 3.4 (5 Points):</h3>"
   ]
  },
  {
   "cell_type": "code",
   "execution_count": null,
   "id": "d524dcb2-9ab2-4ef5-ae41-984d3c10c4a5",
   "metadata": {
    "deletable": false,
    "nbgrader": {
     "cell_type": "code",
     "checksum": "9e200b128f45db70f0b8bf3033bb5a91",
     "grade": false,
     "grade_id": "3_4_code",
     "locked": false,
     "schema_version": 3,
     "solution": true,
     "task": false
    }
   },
   "outputs": [],
   "source": [
    "def run_kNN(X: np.ndarray, y: np.ndarray, train_kNN: Callable, eval_kNN: Callable, mean_zero_one_loss: Callable, nf: int, k: int) -> float:\n",
    "    \"\"\"Function that combines all previous functions using Cross-Validation.\n",
    "    \n",
    "    Parameters\n",
    "    ----------\n",
    "    X : np.ndarray\n",
    "        Training data.\n",
    "    y : np.ndarray\n",
    "        Training labels.\n",
    "    train : Callable\n",
    "        Function used for training the clf.\n",
    "    evaluate : Callable\n",
    "        Function used for evaluating the clf.\n",
    "    loss_fn : Callable\n",
    "        Function used for calculating the loss.\n",
    "    nf : int\n",
    "        Number of folds for CV\n",
    "    k : int\n",
    "        k for kNN algorithm.\n",
    "\n",
    "    Returns\n",
    "    -------\n",
    "    mean_error : float\n",
    "        Mean error over all folds.\n",
    "    \"\"\"\n",
    "    # YOUR CODE HERE\n",
    "    raise NotImplementedError()"
   ]
  },
  {
   "cell_type": "code",
   "execution_count": null,
   "id": "3e980f0a-871b-45cc-b2be-5cde815534d5",
   "metadata": {
    "deletable": false,
    "editable": false,
    "nbgrader": {
     "cell_type": "code",
     "checksum": "6915455dccab015bf12aa3af8fa6bdc3",
     "grade": true,
     "grade_id": "3_4_test",
     "locked": true,
     "points": 5,
     "schema_version": 3,
     "solution": false,
     "task": false
    }
   },
   "outputs": [],
   "source": [
    "# DO NOT DELETE THIS CELL!\n",
    "assert isinstance(run_kNN(X, y, train_kNN, eval_kNN, mean_zero_one_loss, 2, 3), float), \"Mean error is not a float!\""
   ]
  },
  {
   "cell_type": "code",
   "execution_count": null,
   "id": "be5f4e11-0fb0-4496-8f1b-b49d9bd12406",
   "metadata": {
    "deletable": false,
    "editable": false,
    "nbgrader": {
     "cell_type": "code",
     "checksum": "64b72e8e21b5ac4d364cad791cdda782",
     "grade": false,
     "grade_id": "cell-c6bb1f114341bdf5",
     "locked": true,
     "schema_version": 3,
     "solution": false,
     "task": false
    }
   },
   "outputs": [],
   "source": [
    "# Nothing to do here - just run this cell!\n",
    "m = range(1, 180, 2)\n",
    "nf = 10\n",
    "error_holder = []\n",
    "for k in m: #range with 179 included and step of 2\n",
    "    error_holder.append(run_kNN(X, y, train_kNN, eval_kNN, mean_zero_one_loss, nf, k))"
   ]
  },
  {
   "cell_type": "markdown",
   "id": "d5944a74-eeb6-4054-a509-bb22b67b5b7b",
   "metadata": {
    "deletable": false,
    "editable": false,
    "nbgrader": {
     "cell_type": "markdown",
     "checksum": "94b893266ab16282a9de568f2a73efdf",
     "grade": false,
     "grade_id": "cell-b1722a8b85dc6620",
     "locked": true,
     "schema_version": 3,
     "solution": false,
     "task": false
    }
   },
   "source": [
    "<h3 style=\"color:rgb(210,90,80)\">Code 3.5 (2.5 Points):</h3>"
   ]
  },
  {
   "cell_type": "code",
   "execution_count": null,
   "id": "43e54453-57ab-42eb-bd71-99ac47c26f82",
   "metadata": {
    "deletable": false,
    "nbgrader": {
     "cell_type": "code",
     "checksum": "61fb89f7b069deb796a2f6b64c59c830",
     "grade": true,
     "grade_id": "3_5_plot",
     "locked": false,
     "points": 2.5,
     "schema_version": 3,
     "solution": true,
     "task": false
    }
   },
   "outputs": [],
   "source": [
    "def plot_error_vs_k(error_holder: list[float], m: range):\n",
    "    \"\"\"Create a plot displaying the error vs the k in kNN.\n",
    "\n",
    "    Parameters\n",
    "    ----------\n",
    "    error_holder : list[float]\n",
    "        The error list generated above.\n",
    "    m : range\n",
    "        Range in the error list (see above)\n",
    "\n",
    "    Returns\n",
    "    -------\n",
    "    Figure\n",
    "        matplotlib figure object\n",
    "    \"\"\"\n",
    "    # YOUR CODE HERE\n",
    "    raise NotImplementedError()"
   ]
  },
  {
   "cell_type": "code",
   "execution_count": null,
   "id": "cc44f34c-aab2-44bd-a3db-5718de7f17e0",
   "metadata": {
    "deletable": false,
    "editable": false,
    "nbgrader": {
     "cell_type": "code",
     "checksum": "07c46ecc5ee070cbd8649fc8b46e375e",
     "grade": false,
     "grade_id": "cell-73557d6691b1f8a8",
     "locked": true,
     "schema_version": 3,
     "solution": false,
     "task": false
    }
   },
   "outputs": [],
   "source": [
    "# Nothing to do here - just run this cell!\n",
    "plot_error_vs_k(error_holder, m)"
   ]
  },
  {
   "cell_type": "markdown",
   "id": "32ae3a43-9e4c-47df-ba00-f35c53b5d2cd",
   "metadata": {
    "deletable": false,
    "editable": false,
    "nbgrader": {
     "cell_type": "markdown",
     "checksum": "83bec6c63dac179b5fe788dac5a2c9f0",
     "grade": false,
     "grade_id": "cell-c3e6cc61cc9e83fd",
     "locked": true,
     "schema_version": 3,
     "solution": false,
     "task": false
    }
   },
   "source": [
    "<h3 style=\"color:rgb(210,90,80)\">Question 3.5 (2.5 Points):</h3>\n",
    "\n",
    "***Answer the following questions about the plot you just created:***<br>\n",
    "\n",
    "What range for $k$ holds the lowest errors (on average) - by visual inspection?<br>\n",
    "\n",
    "l_) [0,5]<br>\n",
    "m_) [50,60]<br>\n",
    "n_) [150,175]<br>\n",
    "\n",
    "Is the error larger for $k=175$ or for $k=1$?<br>\n",
    "\n",
    "o_) 175<br>\n",
    "p_) 1<br>"
   ]
  },
  {
   "cell_type": "code",
   "execution_count": null,
   "id": "cb8ca35d-cd18-41ae-92e8-b3911d140f63",
   "metadata": {
    "deletable": false,
    "nbgrader": {
     "cell_type": "code",
     "checksum": "1322eb358c3dc8e665f4e48ec344081e",
     "grade": false,
     "grade_id": "questions_3_5",
     "locked": false,
     "schema_version": 3,
     "solution": true,
     "task": false
    }
   },
   "outputs": [],
   "source": [
    "# YOUR CODE HERE\n",
    "raise NotImplementedError()"
   ]
  },
  {
   "cell_type": "code",
   "execution_count": null,
   "id": "ac23ab09-88af-4907-b000-4d43442e312d",
   "metadata": {
    "deletable": false,
    "editable": false,
    "nbgrader": {
     "cell_type": "code",
     "checksum": "1c3b90d42227a14ab7a18adb5b971284",
     "grade": true,
     "grade_id": "l_t_f",
     "locked": true,
     "points": 0.5,
     "schema_version": 3,
     "solution": false,
     "task": false
    }
   },
   "outputs": [],
   "source": [
    "assert l_ is not None, \"Store True/False!\"\n",
    "assert l_ in [True, False], \"Invalid Answer!\""
   ]
  },
  {
   "cell_type": "code",
   "execution_count": null,
   "id": "732cc748-20e2-4f7e-8c67-bdfc4858ad76",
   "metadata": {
    "deletable": false,
    "editable": false,
    "nbgrader": {
     "cell_type": "code",
     "checksum": "6bf43f924c9a3a7a24cd4b525ffa384d",
     "grade": true,
     "grade_id": "m_t_f",
     "locked": true,
     "points": 0.5,
     "schema_version": 3,
     "solution": false,
     "task": false
    }
   },
   "outputs": [],
   "source": [
    "assert m_ is not None, \"Store True/False!\"\n",
    "assert m_ in [True, False], \"Invalid Answer!\""
   ]
  },
  {
   "cell_type": "code",
   "execution_count": null,
   "id": "b4eb7545-17a4-4a89-bc3d-7bb3e5467677",
   "metadata": {
    "deletable": false,
    "editable": false,
    "nbgrader": {
     "cell_type": "code",
     "checksum": "d29703c9ee6d0e90b23fd8d59a0de335",
     "grade": true,
     "grade_id": "n_t_f",
     "locked": true,
     "points": 0.5,
     "schema_version": 3,
     "solution": false,
     "task": false
    }
   },
   "outputs": [],
   "source": [
    "assert n_ is not None, \"Store True/False!\"\n",
    "assert n_ in [True, False], \"Invalid Answer!\""
   ]
  },
  {
   "cell_type": "code",
   "execution_count": null,
   "id": "4e558cb3-2e81-4d38-860e-b8f0a5a0639a",
   "metadata": {
    "deletable": false,
    "editable": false,
    "nbgrader": {
     "cell_type": "code",
     "checksum": "e2c2e6bb821567ebb4c2120972cae592",
     "grade": true,
     "grade_id": "o_t_f",
     "locked": true,
     "points": 0.5,
     "schema_version": 3,
     "solution": false,
     "task": false
    }
   },
   "outputs": [],
   "source": [
    "assert o_ is not None, \"Store True/False!\"\n",
    "assert o_ in [True, False], \"Invalid Answer!\""
   ]
  },
  {
   "cell_type": "code",
   "execution_count": null,
   "id": "a60cc5fa-2ef9-4ab7-bd85-ea37bdf050d2",
   "metadata": {
    "deletable": false,
    "editable": false,
    "nbgrader": {
     "cell_type": "code",
     "checksum": "eb54da180be0bd53837327c48d97724b",
     "grade": true,
     "grade_id": "p_t_f",
     "locked": true,
     "points": 0.5,
     "schema_version": 3,
     "solution": false,
     "task": false
    }
   },
   "outputs": [],
   "source": [
    "assert p_ is not None, \"Store True/False!\"\n",
    "assert p_ in [True, False], \"Invalid Answer!\""
   ]
  },
  {
   "cell_type": "markdown",
   "id": "fa9d9ed8-225a-459e-b16f-ffc266ad6eea",
   "metadata": {
    "deletable": false,
    "editable": false,
    "nbgrader": {
     "cell_type": "markdown",
     "checksum": "f74ec3caecf1f8b94866c2d9d6992323",
     "grade": false,
     "grade_id": "cell-5dc46bb83f2eda21",
     "locked": true,
     "schema_version": 3,
     "solution": false,
     "task": false
    }
   },
   "source": [
    "<h3 style=\"color:rgb(210,90,80)\">Question 3.6 (10 Points):</h3>\n",
    "\n",
    "<i><b>Thinking of model complexity as the ability of the model to fit to noise, what choice of $k$ leads to complex models? Why?</b></i><br>\n",
    "(Multiple answers might be correct)\n",
    "\n",
    "q_) Model complexity increases with increasing $k$, as larger $k$ means the model has more parameters. <br>\n",
    "r_) Model complexity increases with increasing $k$, as larger $k$ means that more neighbors influence the decision. <br>\n",
    "s_) Model complexity increases with decreasing $k$, as smaller $k$ means that fewer neighbors influence the decision. <br>\n",
    "t_) Model complexity increases with decreasing $k$, as smaller $k$ means the model has fewer parameters. <br>\n",
    "\n",
    "u_) Very small values of $k$ lead to underfitting <br>\n",
    "v_) Very small values of $k$ lead to overfitting <br>\n",
    "w_) Very large values of $k$ lead to underfitting <br>\n",
    "x_) Very large values of $k$ lead to overfitting <br>"
   ]
  },
  {
   "cell_type": "code",
   "execution_count": null,
   "id": "50d29417-8c2c-4c7e-8c64-b7b24cc9ac2b",
   "metadata": {
    "deletable": false,
    "nbgrader": {
     "cell_type": "code",
     "checksum": "fe4c430acdfbbc7dcf99b60c83eb789d",
     "grade": false,
     "grade_id": "questions_3_6",
     "locked": false,
     "schema_version": 3,
     "solution": true,
     "task": false
    }
   },
   "outputs": [],
   "source": [
    "# YOUR CODE HERE\n",
    "raise NotImplementedError()"
   ]
  },
  {
   "cell_type": "code",
   "execution_count": null,
   "id": "633052b5-ed99-4a0c-bfe6-78cc20a6dd69",
   "metadata": {
    "deletable": false,
    "editable": false,
    "nbgrader": {
     "cell_type": "code",
     "checksum": "cf37a06cc2c5f89194f6d3f6222f1ce6",
     "grade": true,
     "grade_id": "q_t_f",
     "locked": true,
     "points": 1.25,
     "schema_version": 3,
     "solution": false,
     "task": false
    }
   },
   "outputs": [],
   "source": [
    "assert q_ is not None, \"Store True/False!\"\n",
    "assert q_ in [True, False], \"Invalid Answer!\""
   ]
  },
  {
   "cell_type": "code",
   "execution_count": null,
   "id": "6895dd4c-e929-44c3-85eb-473880e31010",
   "metadata": {
    "deletable": false,
    "editable": false,
    "nbgrader": {
     "cell_type": "code",
     "checksum": "102c21eb3de860b09b730b2fe38e75ae",
     "grade": true,
     "grade_id": "r_t_f",
     "locked": true,
     "points": 1.25,
     "schema_version": 3,
     "solution": false,
     "task": false
    }
   },
   "outputs": [],
   "source": [
    "assert r_ is not None, \"Store True/False!\"\n",
    "assert r_ in [True, False], \"Invalid Answer!\""
   ]
  },
  {
   "cell_type": "code",
   "execution_count": null,
   "id": "02195df5-4961-46f0-b0e4-ae7fc3a9bf7c",
   "metadata": {
    "deletable": false,
    "editable": false,
    "nbgrader": {
     "cell_type": "code",
     "checksum": "2d2558efb8bf597493f9747c53f6ddc0",
     "grade": true,
     "grade_id": "s_t_f",
     "locked": true,
     "points": 1.25,
     "schema_version": 3,
     "solution": false,
     "task": false
    }
   },
   "outputs": [],
   "source": [
    "assert s_ is not None, \"Store True/False!\"\n",
    "assert s_ in [True, False], \"Invalid Answer!\""
   ]
  },
  {
   "cell_type": "code",
   "execution_count": null,
   "id": "4afff5ed-e7a0-410e-980b-1073c94d7958",
   "metadata": {
    "deletable": false,
    "editable": false,
    "nbgrader": {
     "cell_type": "code",
     "checksum": "f06ec7abfc0da15acea930bfbb4589cf",
     "grade": true,
     "grade_id": "t_t_f",
     "locked": true,
     "points": 1.25,
     "schema_version": 3,
     "solution": false,
     "task": false
    }
   },
   "outputs": [],
   "source": [
    "assert t_ is not None, \"Store True/False!\"\n",
    "assert t_ in [True, False], \"Invalid Answer!\""
   ]
  },
  {
   "cell_type": "code",
   "execution_count": null,
   "id": "2cb5f43d-f607-4352-a832-c91d9d02ad93",
   "metadata": {
    "deletable": false,
    "editable": false,
    "nbgrader": {
     "cell_type": "code",
     "checksum": "e2fb032cb1877eca7faa41c72a59a30b",
     "grade": true,
     "grade_id": "u_t_f",
     "locked": true,
     "points": 1.25,
     "schema_version": 3,
     "solution": false,
     "task": false
    }
   },
   "outputs": [],
   "source": [
    "assert u_ is not None, \"Store True/False!\"\n",
    "assert u_ in [True, False], \"Invalid Answer!\""
   ]
  },
  {
   "cell_type": "code",
   "execution_count": null,
   "id": "bd60870b-5be0-4ae9-89de-e6884dd686a0",
   "metadata": {
    "deletable": false,
    "editable": false,
    "nbgrader": {
     "cell_type": "code",
     "checksum": "6327a7534c8d73a114a1cd190628395c",
     "grade": true,
     "grade_id": "v_t_f",
     "locked": true,
     "points": 1.25,
     "schema_version": 3,
     "solution": false,
     "task": false
    }
   },
   "outputs": [],
   "source": [
    "assert v_ is not None, \"Store True/False!\"\n",
    "assert v_ in [True, False], \"Invalid Answer!\""
   ]
  },
  {
   "cell_type": "code",
   "execution_count": null,
   "id": "bce4771a-7920-456e-a9e7-e2ae291854df",
   "metadata": {
    "deletable": false,
    "editable": false,
    "nbgrader": {
     "cell_type": "code",
     "checksum": "fb83c1f504599b7fe75be3cfe1da8daf",
     "grade": true,
     "grade_id": "w_t_f",
     "locked": true,
     "points": 1.25,
     "schema_version": 3,
     "solution": false,
     "task": false
    }
   },
   "outputs": [],
   "source": [
    "assert w_ is not None, \"Store True/False!\"\n",
    "assert w_ in [True, False], \"Invalid Answer!\""
   ]
  },
  {
   "cell_type": "code",
   "execution_count": null,
   "id": "8edacd74-b4e4-44a0-a653-7601678a88fa",
   "metadata": {
    "deletable": false,
    "editable": false,
    "nbgrader": {
     "cell_type": "code",
     "checksum": "8fd565325ac0c96c3ea0dc15ad3df3cb",
     "grade": true,
     "grade_id": "x_t_f",
     "locked": true,
     "points": 1.25,
     "schema_version": 3,
     "solution": false,
     "task": false
    }
   },
   "outputs": [],
   "source": [
    "assert x_ is not None, \"Store True/False!\"\n",
    "assert x_ in [True, False], \"Invalid Answer!\""
   ]
  },
  {
   "cell_type": "markdown",
   "id": "0546adcb-0ebc-4f20-bd6f-23f7da02d079",
   "metadata": {
    "deletable": false,
    "editable": false,
    "nbgrader": {
     "cell_type": "markdown",
     "checksum": "3802a96481abdf108de7d7000c6cf686",
     "grade": false,
     "grade_id": "cell-ce5ec316eae35fd1",
     "locked": true,
     "schema_version": 3,
     "solution": false,
     "task": false
    }
   },
   "source": [
    "<h2 style=\"color:rgb(0,120,170)\">Task 4: Adding noise to dataset</h2>\n",
    "\n",
    "To make things more interesting, mix up the dataset a bit:\n",
    "\n",
    "* Implement `generate_flip_vector` which should return a 1-dimensional array of length $n$ where exactly $\\left \\lfloor{n/5}\\right \\rfloor $ entries are $-1$ and the rest are $+1$. The entries in the array should appear in a random order (hint: first create a numpy array containing all +1 values and then all -1 values and use the following function to shuffle the flip vector: [np.random.shuffle](https://numpy.org/doc/2.0/reference/random/generated/numpy.random.shuffle.html)).\n",
    "* Now implement `flip_labels` that flips the labels according to the flip vector.\n",
    "\n",
    "\n",
    "Then perform the same steps as before. Generate the following 4 subplots in one big plot:  \n",
    "(1) top left: visualize the original dataset (with data points colored differently according to the binary labels)  \n",
    "(2) top right: visualize the flipped dataset (with data points colored differently according to the binary labels)  \n",
    "(3) bottom left: visualize the mean error for $k \\in \\{1,3,5,...,177,179\\}$ (same as in Task 2) for the original dataset  \n",
    "(4) bottom right: visualize the mean error for $k \\in \\{1,3,5,...,177,179\\}$ (same as in Task 2) for the flipped dataset  \n",
    "\n",
    "plot the data and plot the error (estimated via the empirical risk) vs. $k$ for 10-fold cross validation.\n",
    "\n",
    "<h3 style=\"color:rgb(210,90,80)\">Code 4.1 (5 Points):</h3>"
   ]
  },
  {
   "cell_type": "code",
   "execution_count": null,
   "id": "0efa5911-81a8-44e6-b4ce-b87d3613cba6",
   "metadata": {
    "deletable": false,
    "nbgrader": {
     "cell_type": "code",
     "checksum": "2ae2183f19377009aa094f4ecc0920b9",
     "grade": false,
     "grade_id": "4_1_code",
     "locked": false,
     "schema_version": 3,
     "solution": true,
     "task": false
    }
   },
   "outputs": [],
   "source": [
    "def generate_flip_vector(n: int) -> np.ndarray:\n",
    "    \"\"\"Function that produces a flip vector consisting of -1's and 1's.\n",
    "\n",
    "    Parameters\n",
    "    ----------\n",
    "    n : integer\n",
    "        The length of the vector that should be returned.\n",
    "\n",
    "    Returns\n",
    "    -------\n",
    "    flip_vector : np.ndarray\n",
    "        The vector that indicates what labels will be flipped\n",
    "    \"\"\"\n",
    "    # YOUR CODE HERE\n",
    "    raise NotImplementedError()"
   ]
  },
  {
   "cell_type": "code",
   "execution_count": null,
   "id": "52272126-b848-4e7a-a148-1a0cc3d42f53",
   "metadata": {
    "deletable": false,
    "editable": false,
    "nbgrader": {
     "cell_type": "code",
     "checksum": "9746c56f9d5dc40ba0ccb10e18391a5a",
     "grade": true,
     "grade_id": "4_1_test",
     "locked": true,
     "points": 5,
     "schema_version": 3,
     "solution": false,
     "task": false
    }
   },
   "outputs": [],
   "source": [
    "# DO NOT DELETE THIS CELL!\n",
    "_expected_flip_vector1 = np.array([ 1,  1,  1,  1, -1,  1,  1,  1,  1,  1,  1,  1,  1, -1,  1,  1, -1,\n",
    "        1,  1,  1, -1,  1,  1,  1,  1,  1,  1,  1,  1, -1,  1,  1,  1,  1,\n",
    "       -1,  1, -1,  1,  1,  1, -1,  1,  1,  1,  1,  1,  1,  1,  1,  1,  1,\n",
    "        1,  1, -1,  1,  1,  1,  1,  1,  1, -1,  1,  1,  1,  1,  1,  1,  1,\n",
    "        1,  1,  1,  1,  1,  1, -1,  1, -1,  1,  1,  1,  1, -1,  1,  1,  1,\n",
    "        1,  1, -1,  1,  1, -1, -1,  1,  1,  1,  1, -1, -1,  1,  1,  1,  1,\n",
    "       -1, -1, -1,  1,  1,  1,  1,  1,  1, -1,  1,  1,  1,  1,  1,  1,  1,\n",
    "        1,  1,  1,  1,  1,  1, -1,  1,  1,  1,  1,  1,  1, -1, -1,  1,  1,\n",
    "        1,  1,  1, -1,  1,  1, -1,  1,  1,  1,  1,  1,  1,  1,  1, -1,  1,\n",
    "        1,  1, -1,  1,  1,  1,  1,  1,  1,  1,  1,  1,  1,  1,  1, -1,  1,\n",
    "       -1,  1,  1,  1, -1,  1,  1, -1,  1,  1, -1,  1,  1,  1, -1,  1,  1,\n",
    "        1,  1,  1, -1, -1, -1,  1, -1,  1,  1,  1,  1,  1,  1,  1,  1,  1,\n",
    "       -1,  1, -1,  1,  1, -1])\n",
    "\n",
    "np.random.seed(0)\n",
    "_flip1 = generate_flip_vector(len(y))\n",
    "assert isinstance(_flip1, np.ndarray), \"Flip vector is not a numpy array!\"\n",
    "np.testing.assert_array_equal(_expected_flip_vector1, _flip1)"
   ]
  },
  {
   "cell_type": "markdown",
   "id": "316df2a9-6af1-4aa0-9a2b-4334e8ab362c",
   "metadata": {
    "deletable": false,
    "editable": false,
    "nbgrader": {
     "cell_type": "markdown",
     "checksum": "7e1c4370b711c9c708d752390fc6858e",
     "grade": false,
     "grade_id": "cell-11910628ee01cae4",
     "locked": true,
     "schema_version": 3,
     "solution": false,
     "task": false
    }
   },
   "source": [
    "<h3 style=\"color:rgb(210,90,80)\">Code 4.2 (5 Points):</h3>"
   ]
  },
  {
   "cell_type": "code",
   "execution_count": null,
   "id": "223e8940-a36b-401c-9083-9b6f3f8a28e0",
   "metadata": {
    "deletable": false,
    "nbgrader": {
     "cell_type": "code",
     "checksum": "16f82619f6246d7807c90ddbb77dd4e0",
     "grade": false,
     "grade_id": "4_2_code",
     "locked": false,
     "schema_version": 3,
     "solution": true,
     "task": false
    }
   },
   "outputs": [],
   "source": [
    "def flip_labels(y: np.ndarray, flip_vector: np.ndarray):\n",
    "    \"\"\"Function that flips labels given a flip vector.\n",
    "\n",
    "    Parameters\n",
    "    ----------\n",
    "    y : np.ndarray\n",
    "        Labels to flip. Note that y is of the same length as the flip vector.\n",
    "    flip_vector : np.ndarray\n",
    "        Array that should be used to flip the labels.\n",
    "\n",
    "    Returns\n",
    "    -------\n",
    "    flipped_labels : np.ndarray\n",
    "        The labels where roughly n/5 labels are flipped.\n",
    "    \"\"\"\n",
    "    # YOUR CODE HERE\n",
    "    raise NotImplementedError()"
   ]
  },
  {
   "cell_type": "code",
   "execution_count": null,
   "id": "04e712a8-4428-4fd6-95fa-a6ee5d20de5e",
   "metadata": {
    "deletable": false,
    "editable": false,
    "nbgrader": {
     "cell_type": "code",
     "checksum": "09d75a19da748983711782f56a6380c7",
     "grade": true,
     "grade_id": "4_2_test",
     "locked": true,
     "points": 5,
     "schema_version": 3,
     "solution": false,
     "task": false
    }
   },
   "outputs": [],
   "source": [
    "# DO NOT DELETE THIS CELL!\n",
    "np.random.seed(0)\n",
    "_y_fl1 = flip_labels(y, _expected_flip_vector1)\n",
    "_expected_flipped_labels1 = np.array([ 1., -1.,  1.,  1., -1., -1.,  1., -1.,  1.,  1., -1.,  1.,  1.,\n",
    "        1.,  1.,  1.,  1.,  1.,  1.,  1.,  1., -1.,  1., -1., -1.,  1.,\n",
    "        1.,  1., -1.,  1., -1., -1.,  1.,  1.,  1.,  1., -1.,  1., -1.,\n",
    "        1.,  1.,  1.,  1.,  1.,  1.,  1., -1.,  1.,  1.,  1., -1.,  1.,\n",
    "       -1.,  1., -1.,  1.,  1., -1.,  1., -1.,  1., -1.,  1., -1., -1.,\n",
    "        1.,  1.,  1.,  1.,  1., -1., -1., -1.,  1., -1.,  1.,  1.,  1.,\n",
    "        1., -1.,  1., -1., -1., -1., -1., -1.,  1.,  1., -1., -1.,  1.,\n",
    "       -1.,  1.,  1., -1., -1., -1.,  1., -1., -1., -1.,  1.,  1.,  1.,\n",
    "        1.,  1., -1., -1.,  1., -1.,  1., -1., -1.,  1., -1.,  1., -1.,\n",
    "       -1.,  1., -1.,  1., -1., -1., -1., -1.,  1.,  1.,  1., -1., -1.,\n",
    "        1., -1., -1., -1., -1., -1.,  1., -1.,  1., -1., -1.,  1., -1.,\n",
    "        1.,  1., -1.,  1., -1., -1., -1.,  1.,  1.,  1.,  1.,  1., -1.,\n",
    "       -1., -1., -1., -1.,  1.,  1., -1., -1.,  1., -1.,  1.,  1., -1.,\n",
    "       -1., -1., -1.,  1.,  1., -1.,  1., -1.,  1.,  1., -1.,  1., -1.,\n",
    "       -1.,  1., -1., -1., -1.,  1., -1.,  1.,  1.,  1., -1.,  1., -1.,\n",
    "        1., -1.,  1., -1.,  1., -1., -1., -1.,  1., -1.,  1., -1.,  1.,\n",
    "       -1.,  1.])\n",
    "assert isinstance(_y_fl1, np.ndarray), \"Flipped labels is not a numpy array!\"\n",
    "np.testing.assert_array_equal(_expected_flipped_labels1, _y_fl1)"
   ]
  },
  {
   "cell_type": "code",
   "execution_count": null,
   "id": "72effda9-67e4-4623-bd87-9c9c461c1cf2",
   "metadata": {
    "deletable": false,
    "editable": false,
    "nbgrader": {
     "cell_type": "code",
     "checksum": "78ad685a02ec4975c3d99108e62505ee",
     "grade": false,
     "grade_id": "cell-cb54d857cf8516d2",
     "locked": true,
     "schema_version": 3,
     "solution": false,
     "task": false
    }
   },
   "outputs": [],
   "source": [
    "# Nothing to do here - just run this cell!\n",
    "# define new y vector by calling flip function\n",
    "fl_vec = generate_flip_vector(len(y))\n",
    "y_fl = flip_labels(y,fl_vec)\n",
    "\n",
    "error_holder_flipped = []\n",
    "for k in m: # range with 179 included and step of 2\n",
    "    error_holder_flipped.append(run_kNN(X, y_fl, train_kNN, eval_kNN, mean_zero_one_loss, nf, k))"
   ]
  },
  {
   "cell_type": "markdown",
   "id": "97a0d149-c73f-4c73-b10b-598988c18d21",
   "metadata": {
    "deletable": false,
    "editable": false,
    "nbgrader": {
     "cell_type": "markdown",
     "checksum": "3b99a85b309e6e405dfb085afc7c0559",
     "grade": false,
     "grade_id": "cell-b74f8adeb2f1e2b4",
     "locked": true,
     "schema_version": 3,
     "solution": false,
     "task": false
    }
   },
   "source": [
    "<h3 style=\"color:rgb(210,90,80)\">Plot 4.3 (4 Points):</h3>"
   ]
  },
  {
   "cell_type": "code",
   "execution_count": null,
   "id": "2538acc8-adbe-470c-9be5-3acaf52c1d7d",
   "metadata": {
    "deletable": false,
    "nbgrader": {
     "cell_type": "code",
     "checksum": "2daf78be4d2db2028778d53bc99aa014",
     "grade": true,
     "grade_id": "4_3_plot",
     "locked": false,
     "points": 4,
     "schema_version": 3,
     "solution": true,
     "task": false
    }
   },
   "outputs": [],
   "source": [
    "def plot_subplots(X: np.ndarray, y: np.ndarray, y_fl: np.ndarray, m: int, error_holder: list[float], error_holder_flipped: list[float]):\n",
    "    \"\"\"The function creating the plots as described above.\n",
    "\n",
    "    The Parameters are called the same as in the notebook.\n",
    "    Do not use anything besides them.\n",
    "\n",
    "    Parameters\n",
    "    ----------\n",
    "    X : np.ndarray\n",
    "        The data to plot.\n",
    "    y : np.ndarray\n",
    "        The original labels of the data.\n",
    "    y_fl : np.ndarray\n",
    "        The flipped labels of the data.\n",
    "    m : range\n",
    "        The range of the error_holder lists.\n",
    "    error_holder : list[float]\n",
    "        The list containing the original errors.\n",
    "    error_holder_flipped : list[float]\n",
    "        The list containing the errors on the fipped dataset labels.  \n",
    "    \"\"\"\n",
    "    # YOUR CODE HERE\n",
    "    raise NotImplementedError()"
   ]
  },
  {
   "cell_type": "code",
   "execution_count": null,
   "id": "5b6b43be-5412-46b2-8356-d670e640f339",
   "metadata": {
    "deletable": false,
    "editable": false,
    "nbgrader": {
     "cell_type": "code",
     "checksum": "b1f9fbfd7cebb70580586ccbe9fb4c86",
     "grade": false,
     "grade_id": "cell-23a181f54919e41a",
     "locked": true,
     "schema_version": 3,
     "solution": false,
     "task": false
    }
   },
   "outputs": [],
   "source": [
    "# Nothing to do here - just run this cell!\n",
    "plot_subplots(X, y, y_fl, m, error_holder, error_holder_flipped)"
   ]
  },
  {
   "cell_type": "markdown",
   "id": "cee4f71a-8b0d-4e2d-b7b3-1018b83d2a44",
   "metadata": {
    "deletable": false,
    "editable": false,
    "nbgrader": {
     "cell_type": "markdown",
     "checksum": "71d4500966dfe3c1a02e56d5da550a28",
     "grade": false,
     "grade_id": "cell-e98c72b478cb36d1",
     "locked": true,
     "schema_version": 3,
     "solution": false,
     "task": false
    }
   },
   "source": [
    "<h3 style=\"color:rgb(210,90,80)\">Question 4.3 (6 Points):</h3>\n",
    "\n",
    "***Which differences do you observe?<br>\n",
    "Which conclusions do you draw from that?***\n",
    "<br>(Multiple answers might be correct)\n",
    "\n",
    "\n",
    "y_) After flipping, the two classes are well separable and have nearly no overlap anymore <br>\n",
    "z_) After flipping, the two classes are less separable (than before) and have a larger overlap (than before) <br>\n",
    "\n",
    "a2_) Random label flipping brings noise into the data <br>\n",
    "b2_) Random label flipping simply swaps data, but does not add noise <br>\n",
    "\n",
    "c2_) Overall, the error remains nearly unchanged compared to the original data set. <br>\n",
    "d2_) Overall, the error increases compared to the original data set. <br>\n",
    "\n",
    "To answer the question assign to variables in the next cell \"True\" or \"False\" boolean values. To earn points, assign values to all variables. Note: Do not reuse these variable names. They are used for testing."
   ]
  },
  {
   "cell_type": "code",
   "execution_count": null,
   "id": "73585178-2927-4caa-a0fa-d770e7da4d16",
   "metadata": {
    "deletable": false,
    "nbgrader": {
     "cell_type": "code",
     "checksum": "e9c98814463845aece548a842355ff0c",
     "grade": false,
     "grade_id": "questions_4_3",
     "locked": false,
     "schema_version": 3,
     "solution": true,
     "task": false
    }
   },
   "outputs": [],
   "source": [
    "# YOUR CODE HERE\n",
    "raise NotImplementedError()"
   ]
  },
  {
   "cell_type": "code",
   "execution_count": null,
   "id": "5a5f214c-6cbd-4487-a1c4-3fa5e8eaa040",
   "metadata": {
    "deletable": false,
    "editable": false,
    "nbgrader": {
     "cell_type": "code",
     "checksum": "03d95ee1f1434f0a6e8b0cf9f8833635",
     "grade": true,
     "grade_id": "y_t_f",
     "locked": true,
     "points": 1,
     "schema_version": 3,
     "solution": false,
     "task": false
    }
   },
   "outputs": [],
   "source": [
    "assert y_ is not None, \"Store True/False!\"\n",
    "assert y_ in [True, False], \"Invalid Answer!\""
   ]
  },
  {
   "cell_type": "code",
   "execution_count": null,
   "id": "a3827e91-ceac-47b9-a8d3-ced94454b55c",
   "metadata": {
    "deletable": false,
    "editable": false,
    "nbgrader": {
     "cell_type": "code",
     "checksum": "f201757812207f1806d607707b83c28d",
     "grade": true,
     "grade_id": "z_t_f",
     "locked": true,
     "points": 1,
     "schema_version": 3,
     "solution": false,
     "task": false
    }
   },
   "outputs": [],
   "source": [
    "assert z_ is not None, \"Store True/False!\"\n",
    "assert z_ in [True, False], \"Invalid Answer!\""
   ]
  },
  {
   "cell_type": "code",
   "execution_count": null,
   "id": "f330996a-2267-413f-8052-4dd3f0db4a9b",
   "metadata": {
    "deletable": false,
    "editable": false,
    "nbgrader": {
     "cell_type": "code",
     "checksum": "0f221210bc84f408d2ecd67600d6e5d6",
     "grade": true,
     "grade_id": "a2_t_f",
     "locked": true,
     "points": 1,
     "schema_version": 3,
     "solution": false,
     "task": false
    }
   },
   "outputs": [],
   "source": [
    "assert a2_ is not None, \"Store True/False!\"\n",
    "assert a2_ in [True, False], \"Invalid Answer!\""
   ]
  },
  {
   "cell_type": "code",
   "execution_count": null,
   "id": "d0c71110-3b48-440d-8357-5bfd7c0ebd95",
   "metadata": {
    "deletable": false,
    "editable": false,
    "nbgrader": {
     "cell_type": "code",
     "checksum": "090f634a54660aa65b88fb41626c830b",
     "grade": true,
     "grade_id": "b2_t_f",
     "locked": true,
     "points": 1,
     "schema_version": 3,
     "solution": false,
     "task": false
    }
   },
   "outputs": [],
   "source": [
    "assert b2_ is not None, \"Store True/False!\"\n",
    "assert b2_ in [True, False], \"Invalid Answer!\""
   ]
  },
  {
   "cell_type": "code",
   "execution_count": null,
   "id": "18084b93-25c2-4ae6-aec1-c7f008ca99cd",
   "metadata": {
    "deletable": false,
    "editable": false,
    "nbgrader": {
     "cell_type": "code",
     "checksum": "4e66b7cd2c85c115054920ab39c29af4",
     "grade": true,
     "grade_id": "c2_t_f",
     "locked": true,
     "points": 1,
     "schema_version": 3,
     "solution": false,
     "task": false
    }
   },
   "outputs": [],
   "source": [
    "assert c2_ is not None, \"Store True/False!\"\n",
    "assert c2_ in [True, False], \"Invalid Answer!\""
   ]
  },
  {
   "cell_type": "code",
   "execution_count": null,
   "id": "e03161a4-9112-44cd-8f39-4808c0335c3a",
   "metadata": {
    "deletable": false,
    "editable": false,
    "nbgrader": {
     "cell_type": "code",
     "checksum": "ac367b1e4d8db8996c16b18a4c85ff61",
     "grade": true,
     "grade_id": "d2_t_f",
     "locked": true,
     "points": 1,
     "schema_version": 3,
     "solution": false,
     "task": false
    }
   },
   "outputs": [],
   "source": [
    "assert d2_ is not None, \"Store True/False!\"\n",
    "assert d2_ in [True, False], \"Invalid Answer!\""
   ]
  },
  {
   "cell_type": "markdown",
   "id": "dc39b1b1-729f-489b-bb27-ff74f286afb3",
   "metadata": {
    "deletable": false,
    "editable": false,
    "nbgrader": {
     "cell_type": "markdown",
     "checksum": "061e7b13ea1bc6ab31d234b3f6094c72",
     "grade": false,
     "grade_id": "cell-f17e3b2946eeb7a8",
     "locked": true,
     "schema_version": 3,
     "solution": false,
     "task": false
    }
   },
   "source": [
    "<h2 style=\"color:rgb(0,120,170)\">Task 5: k-NN in higher dimensions</h2>\n",
    "\n",
    "Going back to unflipped labels: Write a function `add_features(X)` which will add 4 additional features $x_3,x_4,x_5,x_6$ to the matrix X, calling the resulting matrix `X_new`. Each of the new features should be uniformly distributed between $0$ and $1$.<br>\n",
    "\n",
    "As before, plot the error versus $k$ for 10-folds CV with 1, 2, 3, 4 incrementally added features. (4 plots) <br>\n",
    "\n",
    "Additionally, for the particular choice $k=11$, plot the mean error versus $f$ with $f = 2,3,4,5,6$ being the number of features. Thus, the first data point in this plot (where $f=2$) shows the error for the original feature matrix X without extra dimensions. The second data point in this plot (where $f=3$) shows the error for the feature matrix X with one additional dimension, and so on.<br>\n",
    "\n",
    "<h3 style=\"color:rgb(210,90,80)\">Code 5.1 (10 Points):</h3>"
   ]
  },
  {
   "cell_type": "code",
   "execution_count": null,
   "id": "32f9de22-23ec-4894-b812-1738f786dc37",
   "metadata": {
    "deletable": false,
    "nbgrader": {
     "cell_type": "code",
     "checksum": "1081fd27ae6a676ff2c06d91f12321af",
     "grade": false,
     "grade_id": "5_1_code",
     "locked": false,
     "schema_version": 3,
     "solution": true,
     "task": false
    }
   },
   "outputs": [],
   "source": [
    "def add_features(X: np.ndarray) -> np.ndarray:\n",
    "    \"\"\"Function that adds uniformly distributed features to dataset.\n",
    "\n",
    "    Parameters\n",
    "    ----------\n",
    "    X : np.ndarray\n",
    "        Dataset to add random feature\n",
    "\n",
    "    Returns\n",
    "    -------\n",
    "    X_new : np.ndarray\n",
    "        Dataset enhanced with 4 uniformly distributed features.\n",
    "    \"\"\"\n",
    "    \n",
    "    # YOUR CODE HERE\n",
    "    raise NotImplementedError()"
   ]
  },
  {
   "cell_type": "code",
   "execution_count": null,
   "id": "df2040de-1af5-48c5-b6e5-a8f0e8c2f96c",
   "metadata": {
    "deletable": false,
    "editable": false,
    "nbgrader": {
     "cell_type": "code",
     "checksum": "d8988efa9647604192d39318d6c32d81",
     "grade": true,
     "grade_id": "5_1_test",
     "locked": true,
     "points": 10,
     "schema_version": 3,
     "solution": false,
     "task": false
    }
   },
   "outputs": [],
   "source": [
    "assert isinstance(add_features(X), np.ndarray), \"Resulting data matrix is not a numpy array!\"\n",
    "assert add_features(X).shape == (X.shape[0], 6), \"Resulting data matrix shape is not correct!\""
   ]
  },
  {
   "cell_type": "code",
   "execution_count": null,
   "id": "e44865a9-474d-4468-ac15-51202ce61741",
   "metadata": {
    "deletable": false,
    "editable": false,
    "nbgrader": {
     "cell_type": "code",
     "checksum": "0657de3dd94d7abd40eb0c1d4a155007",
     "grade": false,
     "grade_id": "cell-a628dcb9ed02f64a",
     "locked": true,
     "schema_version": 3,
     "solution": false,
     "task": false
    }
   },
   "outputs": [],
   "source": [
    "# Nothing to do here - just run this cell!\n",
    "# define new feature matrix by calling add_features function\n",
    "X_new = add_features(X)"
   ]
  },
  {
   "cell_type": "markdown",
   "id": "8f5abf4a-2b0c-4c60-9ff4-fb84d7a4b8df",
   "metadata": {
    "deletable": false,
    "editable": false,
    "nbgrader": {
     "cell_type": "markdown",
     "checksum": "5e1dd481a764c21debd2bee3d4b5eb46",
     "grade": false,
     "grade_id": "cell-537d8555f4539c5c",
     "locked": true,
     "schema_version": 3,
     "solution": false,
     "task": false
    }
   },
   "source": [
    "<h3 style=\"color:rgb(210,90,80)\">Plot 5.2 (10 Points):</h3>"
   ]
  },
  {
   "cell_type": "code",
   "execution_count": null,
   "id": "b57a8641-584b-4790-86fb-edb3f384bfe0",
   "metadata": {
    "deletable": false,
    "nbgrader": {
     "cell_type": "code",
     "checksum": "0fad7c84c6fdc6792dfedc92648c61a5",
     "grade": true,
     "grade_id": "5_2_plot",
     "locked": false,
     "points": 10,
     "schema_version": 3,
     "solution": true,
     "task": false
    }
   },
   "outputs": [],
   "source": [
    "def plot_error_vs_k_extra_dims(X_new: np.ndarray, y: np.ndarray, m: range):\n",
    "    \"\"\"Function that implements the plot from Task5.\n",
    "\n",
    "    This function should create 2! plots.\n",
    "    The first plot to visualize error vs k with 10 folds and <X> extra dimensions.\n",
    "    The second plot to visualize the error versus dimension with k=11\n",
    "    \n",
    "    Parameters\n",
    "    ----------\n",
    "    X_new : np.ndarray\n",
    "        The new dataset with the added random features.\n",
    "    y : np.ndarray\n",
    "        The labels of the dataset.\n",
    "    m : range\n",
    "        The range of the error_holder lists for the new errors.\n",
    "    \"\"\"\n",
    "    # YOUR CODE HERE\n",
    "    raise NotImplementedError()"
   ]
  },
  {
   "cell_type": "code",
   "execution_count": null,
   "id": "34e92146-353b-45cc-8cd9-9882539630cf",
   "metadata": {
    "deletable": false,
    "editable": false,
    "nbgrader": {
     "cell_type": "code",
     "checksum": "e3bbba653833815c2efb405e30781c5b",
     "grade": false,
     "grade_id": "cell-0185a5b0fd973cf2",
     "locked": true,
     "schema_version": 3,
     "solution": false,
     "task": false
    }
   },
   "outputs": [],
   "source": [
    "# Nothing to do here - just run this cell!\n",
    "plot_error_vs_k_extra_dims(X_new, y, m)"
   ]
  },
  {
   "cell_type": "markdown",
   "id": "a45349ec-83cd-4351-8f50-1f50f89d27c0",
   "metadata": {
    "deletable": false,
    "editable": false,
    "nbgrader": {
     "cell_type": "markdown",
     "checksum": "50e5536e327d42ff5c2d0a2ff600ae6c",
     "grade": false,
     "grade_id": "cell-9c13fedccbc8c9a3",
     "locked": true,
     "schema_version": 3,
     "solution": false,
     "task": false
    }
   },
   "source": [
    "<h3 style=\"color:rgb(210,90,80)\">Question 5.2 (5 Points):</h3>\n",
    "\n",
    "***Try to explain possible changes of the error.***\n",
    "\n",
    "e2_) $k$-nearest neighbors is robust against randomly added further features; noise is filtered out <br>\n",
    "f2_) $k$-nearest neighbors is not robust aginst randomly added further features; the error increases if extra dimension(s) with noise are added\n",
    "\n",
    "g2_) The error with additional features ($f \\ge 3$) is overall larger than for $f=2$<br>\n",
    "h2_) The error with additional features ($f \\ge 3$) is overall smaller than for $f=2$<br>\n",
    "i2_) The error stays overall the same with additional features"
   ]
  },
  {
   "cell_type": "code",
   "execution_count": null,
   "id": "2810af50-1052-4c83-a304-a5bde40e01f1",
   "metadata": {
    "deletable": false,
    "nbgrader": {
     "cell_type": "code",
     "checksum": "b8fffd90d449328f553693d4d84963a9",
     "grade": false,
     "grade_id": "question_5_2",
     "locked": false,
     "schema_version": 3,
     "solution": true,
     "task": false
    }
   },
   "outputs": [],
   "source": [
    "# YOUR CODE HERE\n",
    "raise NotImplementedError()"
   ]
  },
  {
   "cell_type": "code",
   "execution_count": null,
   "id": "81664ce7-b0d6-4599-a737-0ed1948ad14c",
   "metadata": {
    "deletable": false,
    "editable": false,
    "nbgrader": {
     "cell_type": "code",
     "checksum": "9c270f20ffa74ec9943c39472ff6ee57",
     "grade": true,
     "grade_id": "e2_t_f",
     "locked": true,
     "points": 1,
     "schema_version": 3,
     "solution": false,
     "task": false
    }
   },
   "outputs": [],
   "source": [
    "assert e2_ is not None, \"Store True/False!\"\n",
    "assert e2_ in [True, False], \"Invalid Answer!\""
   ]
  },
  {
   "cell_type": "code",
   "execution_count": null,
   "id": "3ef55af5-a082-460a-8875-e8ba63e7900c",
   "metadata": {
    "deletable": false,
    "editable": false,
    "nbgrader": {
     "cell_type": "code",
     "checksum": "97eb9b015a5c4bc4e4fbd8186783790f",
     "grade": true,
     "grade_id": "f2_t_f",
     "locked": true,
     "points": 1,
     "schema_version": 3,
     "solution": false,
     "task": false
    }
   },
   "outputs": [],
   "source": [
    "assert f2_ is not None, \"Store True/False!\"\n",
    "assert f2_ in [True, False], \"Invalid Answer!\""
   ]
  },
  {
   "cell_type": "code",
   "execution_count": null,
   "id": "4b9b15e9-84ba-4589-847a-15f23d5b3e6b",
   "metadata": {
    "deletable": false,
    "editable": false,
    "nbgrader": {
     "cell_type": "code",
     "checksum": "c5a60caa5dba671f12c51da571a4c510",
     "grade": true,
     "grade_id": "g2_t_f",
     "locked": true,
     "points": 1,
     "schema_version": 3,
     "solution": false,
     "task": false
    }
   },
   "outputs": [],
   "source": [
    "assert g2_ is not None, \"Store True/False!\"\n",
    "assert g2_ in [True, False], \"Invalid Answer!\""
   ]
  },
  {
   "cell_type": "code",
   "execution_count": null,
   "id": "77fb3ccc-a855-4ccf-8b4c-c7127644e43e",
   "metadata": {
    "deletable": false,
    "editable": false,
    "nbgrader": {
     "cell_type": "code",
     "checksum": "72bab9a8b85dc790eb3d331145dfc339",
     "grade": true,
     "grade_id": "h2_t_f",
     "locked": true,
     "points": 1,
     "schema_version": 3,
     "solution": false,
     "task": false
    }
   },
   "outputs": [],
   "source": [
    "assert h2_ is not None, \"Store True/False!\"\n",
    "assert h2_ in [True, False], \"Invalid Answer!\""
   ]
  },
  {
   "cell_type": "code",
   "execution_count": null,
   "id": "3fee9b39-087c-4c27-829c-dfdcfbb4269d",
   "metadata": {
    "deletable": false,
    "editable": false,
    "nbgrader": {
     "cell_type": "code",
     "checksum": "c8e23122e9cd52ff6d58f32ad104f9c0",
     "grade": true,
     "grade_id": "i2_t_f",
     "locked": true,
     "points": 1,
     "schema_version": 3,
     "solution": false,
     "task": false
    }
   },
   "outputs": [],
   "source": [
    "assert i2_ is not None, \"Store True/False!\"\n",
    "assert i2_ in [True, False], \"Invalid Answer!\""
   ]
  }
 ],
 "metadata": {
  "kernelspec": {
   "display_name": "Python 3 (ipykernel)",
   "language": "python",
   "name": "python3"
  },
  "language_info": {
   "codemirror_mode": {
    "name": "ipython",
    "version": 3
   },
   "file_extension": ".py",
   "mimetype": "text/x-python",
   "name": "python",
   "nbconvert_exporter": "python",
   "pygments_lexer": "ipython3",
   "version": "3.12.7"
  }
 },
 "nbformat": 4,
 "nbformat_minor": 5
}
